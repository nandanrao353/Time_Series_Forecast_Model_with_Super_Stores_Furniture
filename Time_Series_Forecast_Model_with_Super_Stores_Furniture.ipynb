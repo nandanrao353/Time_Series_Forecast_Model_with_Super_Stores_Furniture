{
 "cells": [
  {
   "cell_type": "code",
   "execution_count": 1,
   "id": "6b3ad1e0",
   "metadata": {},
   "outputs": [],
   "source": [
    "import pandas as pd\n",
    "import numpy as np\n",
    "import os"
   ]
  },
  {
   "cell_type": "code",
   "execution_count": 2,
   "id": "2becda35",
   "metadata": {},
   "outputs": [
    {
     "name": "stdout",
     "output_type": "stream",
     "text": [
      "F:\\Python Learning\\Imarticus\\Projects\\Time Series\n"
     ]
    }
   ],
   "source": [
    "print(os.getcwd())"
   ]
  },
  {
   "cell_type": "code",
   "execution_count": 3,
   "id": "bc034944",
   "metadata": {},
   "outputs": [],
   "source": [
    "df = pd.read_csv(\"super_store.csv\", parse_dates=['Order Date', 'Ship Date'], encoding = 'cp1252')"
   ]
  },
  {
   "cell_type": "code",
   "execution_count": 5,
   "id": "634d7dc4",
   "metadata": {},
   "outputs": [
    {
     "name": "stdout",
     "output_type": "stream",
     "text": [
      "<class 'pandas.core.frame.DataFrame'>\n",
      "RangeIndex: 2121 entries, 0 to 2120\n",
      "Data columns (total 21 columns):\n",
      " #   Column         Non-Null Count  Dtype         \n",
      "---  ------         --------------  -----         \n",
      " 0   Row ID         2121 non-null   int64         \n",
      " 1   Order ID       2121 non-null   object        \n",
      " 2   Order Date     2121 non-null   datetime64[ns]\n",
      " 3   Ship Date      2121 non-null   datetime64[ns]\n",
      " 4   Ship Mode      2121 non-null   object        \n",
      " 5   Customer ID    2121 non-null   object        \n",
      " 6   Customer Name  2121 non-null   object        \n",
      " 7   Segment        2121 non-null   object        \n",
      " 8   Country        2121 non-null   object        \n",
      " 9   City           2121 non-null   object        \n",
      " 10  State          2121 non-null   object        \n",
      " 11  Postal Code    2121 non-null   int64         \n",
      " 12  Region         2121 non-null   object        \n",
      " 13  Product ID     2121 non-null   object        \n",
      " 14  Category       2121 non-null   object        \n",
      " 15  Sub-Category   2121 non-null   object        \n",
      " 16  Product Name   2121 non-null   object        \n",
      " 17  Sales          2121 non-null   float64       \n",
      " 18  Quantity       2121 non-null   int64         \n",
      " 19  Discount       2121 non-null   float64       \n",
      " 20  Profit         2121 non-null   float64       \n",
      "dtypes: datetime64[ns](2), float64(3), int64(3), object(13)\n",
      "memory usage: 348.1+ KB\n"
     ]
    }
   ],
   "source": [
    "df.info()"
   ]
  },
  {
   "cell_type": "code",
   "execution_count": 6,
   "id": "906b9202",
   "metadata": {},
   "outputs": [
    {
     "data": {
      "text/plain": [
       "array(['Furniture'], dtype=object)"
      ]
     },
     "execution_count": 6,
     "metadata": {},
     "output_type": "execute_result"
    }
   ],
   "source": [
    "df.Category.unique()"
   ]
  },
  {
   "cell_type": "code",
   "execution_count": 7,
   "id": "c515a9fa",
   "metadata": {},
   "outputs": [
    {
     "data": {
      "text/plain": [
       "(Timestamp('2014-01-06 00:00:00'), Timestamp('2017-12-30 00:00:00'))"
      ]
     },
     "execution_count": 7,
     "metadata": {},
     "output_type": "execute_result"
    }
   ],
   "source": [
    "df['Order Date'].min(), df['Order Date'].max()"
   ]
  },
  {
   "cell_type": "code",
   "execution_count": 16,
   "id": "034c559c",
   "metadata": {},
   "outputs": [],
   "source": [
    "## Selecting only Order Date and Sales columns since we are doing only Sales Prediciton\n",
    "df_sales = df.loc[:, ['Order Date', 'Sales']]"
   ]
  },
  {
   "cell_type": "code",
   "execution_count": 17,
   "id": "52d663c1",
   "metadata": {},
   "outputs": [
    {
     "name": "stdout",
     "output_type": "stream",
     "text": [
      "<class 'pandas.core.frame.DataFrame'>\n",
      "RangeIndex: 2121 entries, 0 to 2120\n",
      "Data columns (total 2 columns):\n",
      " #   Column      Non-Null Count  Dtype         \n",
      "---  ------      --------------  -----         \n",
      " 0   Order Date  2121 non-null   datetime64[ns]\n",
      " 1   Sales       2121 non-null   float64       \n",
      "dtypes: datetime64[ns](1), float64(1)\n",
      "memory usage: 33.3 KB\n"
     ]
    }
   ],
   "source": [
    "df_sales.info()"
   ]
  },
  {
   "cell_type": "code",
   "execution_count": 18,
   "id": "d4e4c7cc",
   "metadata": {},
   "outputs": [],
   "source": [
    "## Renaming the Order Date column.\n",
    "df_sales.columns = ['Order_Date', 'Sales']"
   ]
  },
  {
   "cell_type": "code",
   "execution_count": 19,
   "id": "3189ae9a",
   "metadata": {},
   "outputs": [
    {
     "name": "stdout",
     "output_type": "stream",
     "text": [
      "<class 'pandas.core.frame.DataFrame'>\n",
      "RangeIndex: 2121 entries, 0 to 2120\n",
      "Data columns (total 2 columns):\n",
      " #   Column      Non-Null Count  Dtype         \n",
      "---  ------      --------------  -----         \n",
      " 0   Order_Date  2121 non-null   datetime64[ns]\n",
      " 1   Sales       2121 non-null   float64       \n",
      "dtypes: datetime64[ns](1), float64(1)\n",
      "memory usage: 33.3 KB\n"
     ]
    }
   ],
   "source": [
    "df_sales.info()"
   ]
  },
  {
   "cell_type": "code",
   "execution_count": 20,
   "id": "2d4ff158",
   "metadata": {},
   "outputs": [],
   "source": [
    "## Let us make it as Time Series by setting the index as Order Date\n",
    "df_sales.set_index('Order_Date', inplace=True)"
   ]
  },
  {
   "cell_type": "code",
   "execution_count": 55,
   "id": "87332996",
   "metadata": {},
   "outputs": [],
   "source": [
    "df_sales.reset_index(inplace=True)"
   ]
  },
  {
   "cell_type": "code",
   "execution_count": 58,
   "id": "eb87a92f",
   "metadata": {},
   "outputs": [
    {
     "name": "stdout",
     "output_type": "stream",
     "text": [
      "<class 'pandas.core.frame.DataFrame'>\n",
      "RangeIndex: 2121 entries, 0 to 2120\n",
      "Data columns (total 2 columns):\n",
      " #   Column      Non-Null Count  Dtype         \n",
      "---  ------      --------------  -----         \n",
      " 0   Order_Date  2121 non-null   datetime64[ns]\n",
      " 1   Sales       2121 non-null   float64       \n",
      "dtypes: datetime64[ns](1), float64(1)\n",
      "memory usage: 33.3 KB\n"
     ]
    },
    {
     "data": {
      "text/plain": [
       "(  Order_Date      Sales\n",
       " 0 2016-11-08   261.9600\n",
       " 1 2016-11-08   731.9400\n",
       " 2 2015-10-11   957.5775\n",
       " 3 2014-06-09    48.8600\n",
       " 4 2014-06-09  1706.1840,\n",
       " None)"
      ]
     },
     "execution_count": 58,
     "metadata": {},
     "output_type": "execute_result"
    }
   ],
   "source": [
    "df_sales.head(), df_sales.info()"
   ]
  },
  {
   "cell_type": "code",
   "execution_count": 59,
   "id": "e703f819",
   "metadata": {},
   "outputs": [],
   "source": [
    "df_sales['Year'] = df_sales.Order_Date.dt.year\n",
    "df_sales['Month'] = df_sales.Order_Date.dt.month"
   ]
  },
  {
   "cell_type": "code",
   "execution_count": 60,
   "id": "8b0f5fb4",
   "metadata": {},
   "outputs": [
    {
     "data": {
      "text/html": [
       "<div>\n",
       "<style scoped>\n",
       "    .dataframe tbody tr th:only-of-type {\n",
       "        vertical-align: middle;\n",
       "    }\n",
       "\n",
       "    .dataframe tbody tr th {\n",
       "        vertical-align: top;\n",
       "    }\n",
       "\n",
       "    .dataframe thead th {\n",
       "        text-align: right;\n",
       "    }\n",
       "</style>\n",
       "<table border=\"1\" class=\"dataframe\">\n",
       "  <thead>\n",
       "    <tr style=\"text-align: right;\">\n",
       "      <th></th>\n",
       "      <th>Order_Date</th>\n",
       "      <th>Sales</th>\n",
       "      <th>Year</th>\n",
       "      <th>Month</th>\n",
       "    </tr>\n",
       "  </thead>\n",
       "  <tbody>\n",
       "    <tr>\n",
       "      <th>0</th>\n",
       "      <td>2016-11-08</td>\n",
       "      <td>261.9600</td>\n",
       "      <td>2016</td>\n",
       "      <td>11</td>\n",
       "    </tr>\n",
       "    <tr>\n",
       "      <th>1</th>\n",
       "      <td>2016-11-08</td>\n",
       "      <td>731.9400</td>\n",
       "      <td>2016</td>\n",
       "      <td>11</td>\n",
       "    </tr>\n",
       "    <tr>\n",
       "      <th>2</th>\n",
       "      <td>2015-10-11</td>\n",
       "      <td>957.5775</td>\n",
       "      <td>2015</td>\n",
       "      <td>10</td>\n",
       "    </tr>\n",
       "    <tr>\n",
       "      <th>3</th>\n",
       "      <td>2014-06-09</td>\n",
       "      <td>48.8600</td>\n",
       "      <td>2014</td>\n",
       "      <td>6</td>\n",
       "    </tr>\n",
       "    <tr>\n",
       "      <th>4</th>\n",
       "      <td>2014-06-09</td>\n",
       "      <td>1706.1840</td>\n",
       "      <td>2014</td>\n",
       "      <td>6</td>\n",
       "    </tr>\n",
       "  </tbody>\n",
       "</table>\n",
       "</div>"
      ],
      "text/plain": [
       "  Order_Date      Sales  Year  Month\n",
       "0 2016-11-08   261.9600  2016     11\n",
       "1 2016-11-08   731.9400  2016     11\n",
       "2 2015-10-11   957.5775  2015     10\n",
       "3 2014-06-09    48.8600  2014      6\n",
       "4 2014-06-09  1706.1840  2014      6"
      ]
     },
     "execution_count": 60,
     "metadata": {},
     "output_type": "execute_result"
    }
   ],
   "source": [
    "df_sales.head()"
   ]
  },
  {
   "cell_type": "code",
   "execution_count": 61,
   "id": "98b30a4e",
   "metadata": {},
   "outputs": [
    {
     "data": {
      "text/plain": [
       "Year  Month\n",
       "2014  1         6242.5250\n",
       "      2         1839.6580\n",
       "      3        14573.9560\n",
       "      4         7944.8370\n",
       "      5         6912.7870\n",
       "      6        13206.1256\n",
       "      7        10821.0510\n",
       "      8         7320.3465\n",
       "      9        23816.4808\n",
       "      10       12304.2470\n",
       "      11       21564.8727\n",
       "      12       30645.9665\n",
       "2015  1        11739.9416\n",
       "      2         3134.3740\n",
       "      3        12499.7830\n",
       "      4        10475.6985\n",
       "      5         9374.9505\n",
       "      6         7714.1790\n",
       "      7        13674.4200\n",
       "      8         9638.5922\n",
       "      9        26273.0230\n",
       "      10       12026.6235\n",
       "      11       30880.8325\n",
       "      12       23085.8192\n",
       "2016  1         7622.7430\n",
       "      2         3925.5510\n",
       "      3        12801.0920\n",
       "      4        13212.0900\n",
       "      5        15119.8350\n",
       "      6        13070.5720\n",
       "      7        13068.5190\n",
       "      8        12483.2323\n",
       "      9        27262.8809\n",
       "      10       11872.5770\n",
       "      11       31783.6288\n",
       "      12       36678.7150\n",
       "2017  1         5964.0320\n",
       "      2         6866.3374\n",
       "      3        10893.4448\n",
       "      4         9065.9581\n",
       "      5        16957.5582\n",
       "      6        19008.5867\n",
       "      7        11813.0220\n",
       "      8        15441.8740\n",
       "      9        29028.2060\n",
       "      10       21884.0682\n",
       "      11       37056.7150\n",
       "      12       31407.4668\n",
       "Name: Sales, dtype: float64"
      ]
     },
     "execution_count": 61,
     "metadata": {},
     "output_type": "execute_result"
    }
   ],
   "source": [
    "df_sales.groupby(['Year','Month'])['Sales'].sum()"
   ]
  },
  {
   "cell_type": "code",
   "execution_count": 65,
   "id": "c2ba5107",
   "metadata": {},
   "outputs": [],
   "source": [
    "df_sales = df_sales[['Order_Date', 'Sales']].set_index('Order_Date')"
   ]
  },
  {
   "cell_type": "code",
   "execution_count": 66,
   "id": "bc588479",
   "metadata": {},
   "outputs": [
    {
     "data": {
      "text/html": [
       "<div>\n",
       "<style scoped>\n",
       "    .dataframe tbody tr th:only-of-type {\n",
       "        vertical-align: middle;\n",
       "    }\n",
       "\n",
       "    .dataframe tbody tr th {\n",
       "        vertical-align: top;\n",
       "    }\n",
       "\n",
       "    .dataframe thead th {\n",
       "        text-align: right;\n",
       "    }\n",
       "</style>\n",
       "<table border=\"1\" class=\"dataframe\">\n",
       "  <thead>\n",
       "    <tr style=\"text-align: right;\">\n",
       "      <th></th>\n",
       "      <th>Sales</th>\n",
       "    </tr>\n",
       "    <tr>\n",
       "      <th>Order_Date</th>\n",
       "      <th></th>\n",
       "    </tr>\n",
       "  </thead>\n",
       "  <tbody>\n",
       "    <tr>\n",
       "      <th>2016-11-08</th>\n",
       "      <td>261.9600</td>\n",
       "    </tr>\n",
       "    <tr>\n",
       "      <th>2016-11-08</th>\n",
       "      <td>731.9400</td>\n",
       "    </tr>\n",
       "    <tr>\n",
       "      <th>2015-10-11</th>\n",
       "      <td>957.5775</td>\n",
       "    </tr>\n",
       "    <tr>\n",
       "      <th>2014-06-09</th>\n",
       "      <td>48.8600</td>\n",
       "    </tr>\n",
       "    <tr>\n",
       "      <th>2014-06-09</th>\n",
       "      <td>1706.1840</td>\n",
       "    </tr>\n",
       "  </tbody>\n",
       "</table>\n",
       "</div>"
      ],
      "text/plain": [
       "                Sales\n",
       "Order_Date           \n",
       "2016-11-08   261.9600\n",
       "2016-11-08   731.9400\n",
       "2015-10-11   957.5775\n",
       "2014-06-09    48.8600\n",
       "2014-06-09  1706.1840"
      ]
     },
     "execution_count": 66,
     "metadata": {},
     "output_type": "execute_result"
    }
   ],
   "source": [
    "df_sales.head()"
   ]
  },
  {
   "cell_type": "markdown",
   "id": "4a4f2fad",
   "metadata": {},
   "source": [
    "### Creating daily sales into Monthly Sales  using resample()"
   ]
  },
  {
   "cell_type": "code",
   "execution_count": 101,
   "id": "414ba8d4",
   "metadata": {},
   "outputs": [],
   "source": [
    "df_monthly_sales = df_sales.resample(rule='MS').sum().round(2)"
   ]
  },
  {
   "cell_type": "code",
   "execution_count": 102,
   "id": "8d6828f8",
   "metadata": {},
   "outputs": [
    {
     "name": "stdout",
     "output_type": "stream",
     "text": [
      "<class 'pandas.core.frame.DataFrame'>\n"
     ]
    }
   ],
   "source": [
    "print(type(df_monthly_sales))"
   ]
  },
  {
   "cell_type": "code",
   "execution_count": 103,
   "id": "52afbe97",
   "metadata": {},
   "outputs": [
    {
     "data": {
      "text/html": [
       "<div>\n",
       "<style scoped>\n",
       "    .dataframe tbody tr th:only-of-type {\n",
       "        vertical-align: middle;\n",
       "    }\n",
       "\n",
       "    .dataframe tbody tr th {\n",
       "        vertical-align: top;\n",
       "    }\n",
       "\n",
       "    .dataframe thead th {\n",
       "        text-align: right;\n",
       "    }\n",
       "</style>\n",
       "<table border=\"1\" class=\"dataframe\">\n",
       "  <thead>\n",
       "    <tr style=\"text-align: right;\">\n",
       "      <th></th>\n",
       "      <th>Sales</th>\n",
       "    </tr>\n",
       "    <tr>\n",
       "      <th>Order_Date</th>\n",
       "      <th></th>\n",
       "    </tr>\n",
       "  </thead>\n",
       "  <tbody>\n",
       "    <tr>\n",
       "      <th>2014-01-01</th>\n",
       "      <td>6242.52</td>\n",
       "    </tr>\n",
       "    <tr>\n",
       "      <th>2014-02-01</th>\n",
       "      <td>1839.66</td>\n",
       "    </tr>\n",
       "    <tr>\n",
       "      <th>2014-03-01</th>\n",
       "      <td>14573.96</td>\n",
       "    </tr>\n",
       "    <tr>\n",
       "      <th>2014-04-01</th>\n",
       "      <td>7944.84</td>\n",
       "    </tr>\n",
       "    <tr>\n",
       "      <th>2014-05-01</th>\n",
       "      <td>6912.79</td>\n",
       "    </tr>\n",
       "  </tbody>\n",
       "</table>\n",
       "</div>"
      ],
      "text/plain": [
       "               Sales\n",
       "Order_Date          \n",
       "2014-01-01   6242.52\n",
       "2014-02-01   1839.66\n",
       "2014-03-01  14573.96\n",
       "2014-04-01   7944.84\n",
       "2014-05-01   6912.79"
      ]
     },
     "execution_count": 103,
     "metadata": {},
     "output_type": "execute_result"
    }
   ],
   "source": [
    "df_monthly_sales.head()"
   ]
  },
  {
   "cell_type": "code",
   "execution_count": 104,
   "id": "2ede0dfc",
   "metadata": {},
   "outputs": [
    {
     "data": {
      "text/html": [
       "<div>\n",
       "<style scoped>\n",
       "    .dataframe tbody tr th:only-of-type {\n",
       "        vertical-align: middle;\n",
       "    }\n",
       "\n",
       "    .dataframe tbody tr th {\n",
       "        vertical-align: top;\n",
       "    }\n",
       "\n",
       "    .dataframe thead th {\n",
       "        text-align: right;\n",
       "    }\n",
       "</style>\n",
       "<table border=\"1\" class=\"dataframe\">\n",
       "  <thead>\n",
       "    <tr style=\"text-align: right;\">\n",
       "      <th></th>\n",
       "      <th>Sales</th>\n",
       "    </tr>\n",
       "    <tr>\n",
       "      <th>Order_Date</th>\n",
       "      <th></th>\n",
       "    </tr>\n",
       "  </thead>\n",
       "  <tbody>\n",
       "    <tr>\n",
       "      <th>2014-01-01</th>\n",
       "      <td>6242.52</td>\n",
       "    </tr>\n",
       "    <tr>\n",
       "      <th>2014-02-01</th>\n",
       "      <td>1839.66</td>\n",
       "    </tr>\n",
       "    <tr>\n",
       "      <th>2014-03-01</th>\n",
       "      <td>14573.96</td>\n",
       "    </tr>\n",
       "    <tr>\n",
       "      <th>2014-04-01</th>\n",
       "      <td>7944.84</td>\n",
       "    </tr>\n",
       "    <tr>\n",
       "      <th>2014-05-01</th>\n",
       "      <td>6912.79</td>\n",
       "    </tr>\n",
       "    <tr>\n",
       "      <th>2014-06-01</th>\n",
       "      <td>13206.13</td>\n",
       "    </tr>\n",
       "  </tbody>\n",
       "</table>\n",
       "</div>"
      ],
      "text/plain": [
       "               Sales\n",
       "Order_Date          \n",
       "2014-01-01   6242.52\n",
       "2014-02-01   1839.66\n",
       "2014-03-01  14573.96\n",
       "2014-04-01   7944.84\n",
       "2014-05-01   6912.79\n",
       "2014-06-01  13206.13"
      ]
     },
     "execution_count": 104,
     "metadata": {},
     "output_type": "execute_result"
    }
   ],
   "source": [
    "df_monthly_sales['2014-01':'2014-06']"
   ]
  },
  {
   "cell_type": "markdown",
   "id": "a0fee526",
   "metadata": {},
   "source": [
    "### Visualizing the Time Series Dat"
   ]
  },
  {
   "cell_type": "code",
   "execution_count": 105,
   "id": "8b7c5c70",
   "metadata": {},
   "outputs": [],
   "source": [
    "import matplotlib.pyplot as plt"
   ]
  },
  {
   "cell_type": "code",
   "execution_count": 106,
   "id": "39ab324b",
   "metadata": {},
   "outputs": [
    {
     "data": {
      "text/plain": [
       "<Figure size 1080x864 with 0 Axes>"
      ]
     },
     "metadata": {},
     "output_type": "display_data"
    },
    {
     "data": {
      "image/png": "[encoded data removed]",
      "text/plain": [
       "<Figure size 432x288 with 1 Axes>"
      ]
     },
     "metadata": {
      "needs_background": "light"
     },
     "output_type": "display_data"
    }
   ],
   "source": [
    "plt.figure(figsize=(15,12))\n",
    "df_monthly_sales.plot()\n",
    "plt.title(\"Furniture Monthly Sales Data\")\n",
    "plt.xlabel(\" Year-Month\")\n",
    "plt.ylabel('Sales')\n",
    "plt.show()"
   ]
  },
  {
   "cell_type": "markdown",
   "id": "368dd25d",
   "metadata": {},
   "source": [
    "### Test for Stationarity\n"
   ]
  },
  {
   "cell_type": "code",
   "execution_count": 107,
   "id": "39bbbba8",
   "metadata": {},
   "outputs": [],
   "source": [
    "from statsmodels.tsa.stattools import adfuller, kpss"
   ]
  },
  {
   "cell_type": "code",
   "execution_count": 108,
   "id": "fc5e0d83",
   "metadata": {},
   "outputs": [
    {
     "name": "stdout",
     "output_type": "stream",
     "text": [
      "P-Value :  8.450799287108568e-05\n"
     ]
    }
   ],
   "source": [
    "## ADF Test\n",
    "## Null Hypothesis = Non-Stationary\n",
    "## ALternate Hypothesis = Stationary\n",
    "\n",
    "res = adfuller(df_monthly_sales )\n",
    "print(\"P-Value : \", res[1])"
   ]
  },
  {
   "cell_type": "code",
   "execution_count": 109,
   "id": "fc0008ec",
   "metadata": {},
   "outputs": [
    {
     "name": "stdout",
     "output_type": "stream",
     "text": [
      "ADF Statistic: -4.699026\n",
      "p-value: 0.000085\n",
      "Critical Values:\n",
      "\t1%: -3.578\n",
      "\t5%: -2.925\n",
      "\t10%: -2.601\n",
      "Reject Ho - Time Series is Stationary\n"
     ]
    }
   ],
   "source": [
    "print('ADF Statistic: %f' % res[0])\n",
    "\n",
    "print('p-value: %f' % res[1])\n",
    "\n",
    "print('Critical Values:')\n",
    "\n",
    "for key, value in res[4].items():\n",
    "    print('\\t%s: %.3f' % (key, value))\n",
    "if res[0] < res[4][\"5%\"]:\n",
    "    print (\"Reject Ho - Time Series is Stationary\")\n",
    "else:\n",
    "    print (\"Failed to Reject Ho - Time Series is Non-Stationary\")"
   ]
  },
  {
   "cell_type": "code",
   "execution_count": 110,
   "id": "47f7b40b",
   "metadata": {},
   "outputs": [],
   "source": [
    "kpss_res = kpss(df_monthly_sales, nlags='auto')"
   ]
  },
  {
   "cell_type": "code",
   "execution_count": 111,
   "id": "1db5901c",
   "metadata": {},
   "outputs": [
    {
     "data": {
      "text/plain": [
       "0.0453687119513312"
      ]
     },
     "execution_count": 111,
     "metadata": {},
     "output_type": "execute_result"
    }
   ],
   "source": [
    "kpss_res[1]"
   ]
  },
  {
   "cell_type": "code",
   "execution_count": 112,
   "id": "45bfb5f6",
   "metadata": {},
   "outputs": [
    {
     "data": {
      "text/plain": [
       "0.4835629189360895"
      ]
     },
     "execution_count": 112,
     "metadata": {},
     "output_type": "execute_result"
    }
   ],
   "source": [
    "kpss_res[0]"
   ]
  },
  {
   "cell_type": "code",
   "execution_count": 113,
   "id": "41ab9635",
   "metadata": {},
   "outputs": [
    {
     "data": {
      "text/plain": [
       "0.463"
      ]
     },
     "execution_count": 113,
     "metadata": {},
     "output_type": "execute_result"
    }
   ],
   "source": [
    "kpss_res[3]['5%']"
   ]
  },
  {
   "cell_type": "code",
   "execution_count": 114,
   "id": "4533c3b4",
   "metadata": {},
   "outputs": [
    {
     "data": {
      "text/plain": [
       "False"
      ]
     },
     "execution_count": 114,
     "metadata": {},
     "output_type": "execute_result"
    }
   ],
   "source": [
    "kpss_res[0] < kpss_res[3]['5%']"
   ]
  },
  {
   "cell_type": "markdown",
   "id": "ddde34a8",
   "metadata": {},
   "source": [
    "### Decomposing the time series"
   ]
  },
  {
   "cell_type": "code",
   "execution_count": 117,
   "id": "2d0ecbb7",
   "metadata": {},
   "outputs": [
    {
     "data": {
      "image/png": "[encoded data removed]",
      "text/plain": [
       "<Figure size 1296x576 with 4 Axes>"
      ]
     },
     "metadata": {
      "needs_background": "light"
     },
     "output_type": "display_data"
    }
   ],
   "source": [
    "import statsmodels.api as sm\n",
    "from pylab import rcParams\n",
    "rcParams['figure.figsize'] = 18, 8\n",
    "decomposition = sm.tsa.seasonal_decompose(df_monthly_sales, model='additive')\n",
    "fig = decomposition.plot()\n",
    "plt.show()"
   ]
  },
  {
   "cell_type": "code",
   "execution_count": 118,
   "id": "5a7b1459",
   "metadata": {},
   "outputs": [
    {
     "data": {
      "image/png": "[encoded data removed]",
      "text/plain": [
       "<Figure size 1296x576 with 4 Axes>"
      ]
     },
     "metadata": {
      "needs_background": "light"
     },
     "output_type": "display_data"
    }
   ],
   "source": [
    "decomposition = sm.tsa.seasonal_decompose(df_monthly_sales, model='multiplicative')\n",
    "fig = decomposition.plot()\n",
    "plt.show()"
   ]
  },
  {
   "cell_type": "markdown",
   "id": "1b5c7a14",
   "metadata": {},
   "source": [
    "### Forecasting the model"
   ]
  },
  {
   "cell_type": "code",
   "execution_count": 238,
   "id": "b2bf762e",
   "metadata": {},
   "outputs": [
    {
     "name": "stdout",
     "output_type": "stream",
     "text": [
      "p: [0, 1, 2], d: [0, 1, 2], q: [0, 1, 2]\n",
      "[(0, 0, 0), (0, 0, 1), (0, 0, 2), (0, 1, 0), (0, 1, 1), (0, 1, 2), (0, 2, 0), (0, 2, 1), (0, 2, 2), (1, 0, 0), (1, 0, 1), (1, 0, 2), (1, 1, 0), (1, 1, 1), (1, 1, 2), (1, 2, 0), (1, 2, 1), (1, 2, 2), (2, 0, 0), (2, 0, 1), (2, 0, 2), (2, 1, 0), (2, 1, 1), (2, 1, 2), (2, 2, 0), (2, 2, 1), (2, 2, 2)]\n"
     ]
    }
   ],
   "source": [
    "import itertools\n",
    "p = d = q = range(0, 3)\n",
    "\n",
    "print(\"p: {}, d: {}, q: {}\".format(list(p), list(d), list(q)))\n",
    "pdq = list(itertools.product(p, d, q))\n",
    "print(pdq)\n",
    "seasonal_pdq = [(x[0], x[1], x[2], 12) for x in list(itertools.product(p, d, q))]"
   ]
  },
  {
   "cell_type": "code",
   "execution_count": 239,
   "id": "7347c4cb",
   "metadata": {},
   "outputs": [
    {
     "name": "stdout",
     "output_type": "stream",
     "text": [
      "SARIMAX: (0, 0, 0) x (0, 0, 0, 12)\n",
      "SARIMAX: (0, 0, 1) x (0, 0, 1, 12)\n",
      "SARIMAX: (0, 0, 2) x (0, 0, 2, 12)\n",
      "SARIMAX: (0, 1, 0) x (0, 1, 0, 12)\n",
      "SARIMAX: (0, 1, 1) x (0, 1, 1, 12)\n",
      "SARIMAX: (0, 1, 2) x (0, 1, 2, 12)\n",
      "SARIMAX: (0, 2, 0) x (0, 2, 0, 12)\n",
      "SARIMAX: (0, 2, 1) x (0, 2, 1, 12)\n",
      "SARIMAX: (0, 2, 2) x (0, 2, 2, 12)\n",
      "SARIMAX: (1, 0, 0) x (1, 0, 0, 12)\n",
      "SARIMAX: (1, 0, 1) x (1, 0, 1, 12)\n",
      "SARIMAX: (1, 0, 2) x (1, 0, 2, 12)\n",
      "SARIMAX: (1, 1, 0) x (1, 1, 0, 12)\n",
      "SARIMAX: (1, 1, 1) x (1, 1, 1, 12)\n",
      "SARIMAX: (1, 1, 2) x (1, 1, 2, 12)\n",
      "SARIMAX: (1, 2, 0) x (1, 2, 0, 12)\n",
      "SARIMAX: (1, 2, 1) x (1, 2, 1, 12)\n",
      "SARIMAX: (1, 2, 2) x (1, 2, 2, 12)\n",
      "SARIMAX: (2, 0, 0) x (2, 0, 0, 12)\n",
      "SARIMAX: (2, 0, 1) x (2, 0, 1, 12)\n",
      "SARIMAX: (2, 0, 2) x (2, 0, 2, 12)\n",
      "SARIMAX: (2, 1, 0) x (2, 1, 0, 12)\n",
      "SARIMAX: (2, 1, 1) x (2, 1, 1, 12)\n",
      "SARIMAX: (2, 1, 2) x (2, 1, 2, 12)\n",
      "SARIMAX: (2, 2, 0) x (2, 2, 0, 12)\n",
      "SARIMAX: (2, 2, 1) x (2, 2, 1, 12)\n",
      "SARIMAX: (2, 2, 2) x (2, 2, 2, 12)\n"
     ]
    }
   ],
   "source": [
    "## We will be building all these models.\n",
    "for i in range(len(pdq)):\n",
    "    print('SARIMAX: {} x {}'.format(pdq[i], seasonal_pdq[i]))\n"
   ]
  },
  {
   "cell_type": "markdown",
   "id": "11a93251",
   "metadata": {},
   "source": [
    "### Builing the time series models "
   ]
  },
  {
   "cell_type": "code",
   "execution_count": 240,
   "id": "d823f373",
   "metadata": {},
   "outputs": [
    {
     "name": "stdout",
     "output_type": "stream",
     "text": [
      "1: ARIMA(0, 0, 0)x(0, 0, 0, 12) - AIC:1056.7150878428556\n",
      "2: ARIMA(0, 0, 0)x(0, 0, 1, 12) - AIC:1546.6020590967082\n",
      "3: ARIMA(0, 0, 0)x(0, 0, 2, 12) - AIC:472.83739420227664\n",
      "4: ARIMA(0, 0, 0)x(0, 1, 0, 12) - AIC:691.3931452113369\n",
      "5: ARIMA(0, 0, 0)x(0, 1, 1, 12) - AIC:458.1256323313009\n",
      "6: ARIMA(0, 0, 0)x(0, 1, 2, 12) - AIC:221.00687626857578\n",
      "7: ARIMA(0, 0, 0)x(0, 2, 0, 12) - AIC:476.61880448057235\n",
      "8: ARIMA(0, 0, 0)x(0, 2, 1, 12) - AIC:224.32590361586165\n",
      "9: ARIMA(0, 0, 0)x(0, 2, 2, 12) - AIC:6.0\n",
      "10: ARIMA(0, 0, 0)x(1, 0, 0, 12) - AIC:711.249281531994\n",
      "11: ARIMA(0, 0, 0)x(1, 0, 1, 12) - AIC:1377.5975134215134\n",
      "12: ARIMA(0, 0, 0)x(1, 0, 2, 12) - AIC:472.1513769133529\n",
      "13: ARIMA(0, 0, 0)x(1, 1, 0, 12) - AIC:475.9267359023421\n",
      "14: ARIMA(0, 0, 0)x(1, 1, 1, 12) - AIC:455.2614602393312\n",
      "15: ARIMA(0, 0, 0)x(1, 1, 2, 12) - AIC:223.00614064277278\n",
      "16: ARIMA(0, 0, 0)x(1, 2, 0, 12) - AIC:240.99723389298515\n",
      "17: ARIMA(0, 0, 0)x(1, 2, 1, 12) - AIC:225.80394341474798\n",
      "18: ARIMA(0, 0, 0)x(1, 2, 2, 12) - AIC:8.0\n",
      "19: ARIMA(0, 0, 0)x(2, 0, 0, 12) - AIC:468.7903239873383\n",
      "20: ARIMA(0, 0, 0)x(2, 0, 1, 12) - AIC:915.2377029540498\n",
      "21: ARIMA(0, 0, 0)x(2, 0, 2, 12) - AIC:474.1304218387836\n",
      "22: ARIMA(0, 0, 0)x(2, 1, 0, 12) - AIC:241.16649749177975\n",
      "23: ARIMA(0, 0, 0)x(2, 1, 1, 12) - AIC:242.5953467037114\n",
      "24: ARIMA(0, 0, 0)x(2, 1, 2, 12) - AIC:225.00422390003413\n",
      "25: ARIMA(0, 0, 0)x(2, 2, 0, 12) - AIC:6.0\n",
      "26: ARIMA(0, 0, 0)x(2, 2, 1, 12) - AIC:8.0\n",
      "27: ARIMA(0, 0, 0)x(2, 2, 2, 12) - AIC:10.0\n",
      "28: ARIMA(0, 0, 1)x(0, 0, 0, 12) - AIC:1015.7594091273127\n",
      "29: ARIMA(0, 0, 1)x(0, 0, 1, 12) - AIC:5315.085628724434\n",
      "30: ARIMA(0, 0, 1)x(0, 0, 2, 12) - AIC:480.8337501718481\n",
      "31: ARIMA(0, 0, 1)x(0, 1, 0, 12) - AIC:674.6304739106716\n",
      "32: ARIMA(0, 0, 1)x(0, 1, 1, 12) - AIC:440.2590307526666\n",
      "33: ARIMA(0, 0, 1)x(0, 1, 2, 12) - AIC:203.58884538338788\n",
      "34: ARIMA(0, 0, 1)x(0, 2, 0, 12) - AIC:458.2472486151145\n",
      "35: ARIMA(0, 0, 1)x(0, 2, 1, 12) - AIC:199.3207269804503\n",
      "36: ARIMA(0, 0, 1)x(0, 2, 2, 12) - AIC:8.0\n",
      "37: ARIMA(0, 0, 1)x(1, 0, 0, 12) - AIC:779.6594253920332\n",
      "38: ARIMA(0, 0, 1)x(1, 0, 1, 12) - AIC:4837.841237986041\n",
      "39: ARIMA(0, 0, 1)x(1, 0, 2, 12) - AIC:482.2615007703444\n",
      "40: ARIMA(0, 0, 1)x(1, 1, 0, 12) - AIC:476.78163210183095\n",
      "41: ARIMA(0, 0, 1)x(1, 1, 1, 12) - AIC:438.26416475627815\n",
      "42: ARIMA(0, 0, 1)x(1, 1, 2, 12) - AIC:204.42179895751585\n",
      "43: ARIMA(0, 0, 1)x(1, 2, 0, 12) - AIC:247.25525030198466\n",
      "44: ARIMA(0, 0, 1)x(1, 2, 1, 12) - AIC:199.66494822470898\n",
      "45: ARIMA(0, 0, 1)x(1, 2, 2, 12) - AIC:10.0\n",
      "46: ARIMA(0, 0, 1)x(2, 0, 0, 12) - AIC:523.1713596692464\n",
      "47: ARIMA(0, 0, 1)x(2, 0, 1, 12) - AIC:961.3276712595666\n",
      "48: ARIMA(0, 0, 1)x(2, 0, 2, 12) - AIC:484.2674153047425\n",
      "49: ARIMA(0, 0, 1)x(2, 1, 0, 12) - AIC:243.32310279507792\n",
      "50: ARIMA(0, 0, 1)x(2, 1, 1, 12) - AIC:243.5173372126877\n",
      "51: ARIMA(0, 0, 1)x(2, 1, 2, 12) - AIC:206.41843006125913\n",
      "52: ARIMA(0, 0, 1)x(2, 2, 0, 12) - AIC:8.0\n",
      "53: ARIMA(0, 0, 1)x(2, 2, 1, 12) - AIC:10.0\n",
      "54: ARIMA(0, 0, 1)x(2, 2, 2, 12) - AIC:12.0\n",
      "55: ARIMA(0, 0, 2)x(0, 0, 0, 12) - AIC:993.1464002462911\n",
      "56: ARIMA(0, 0, 2)x(0, 0, 1, 12) - AIC:5261.966053368692\n",
      "57: ARIMA(0, 0, 2)x(0, 0, 2, 12) - AIC:462.26784781955706\n",
      "58: ARIMA(0, 0, 2)x(0, 1, 0, 12) - AIC:657.7627105512303\n",
      "59: ARIMA(0, 0, 2)x(0, 1, 1, 12) - AIC:423.41712352256195\n",
      "60: ARIMA(0, 0, 2)x(0, 1, 2, 12) - AIC:185.90177979113486\n",
      "61: ARIMA(0, 0, 2)x(0, 2, 0, 12) - AIC:438.6498727169636\n",
      "62: ARIMA(0, 0, 2)x(0, 2, 1, 12) - AIC:190.28322034014917\n",
      "63: ARIMA(0, 0, 2)x(0, 2, 2, 12) - AIC:10.0\n",
      "64: ARIMA(0, 0, 2)x(1, 0, 0, 12) - AIC:783.2008021108321\n",
      "65: ARIMA(0, 0, 2)x(1, 0, 1, 12) - AIC:5088.786986427648\n",
      "66: ARIMA(0, 0, 2)x(1, 0, 2, 12) - AIC:463.7366908834151\n",
      "67: ARIMA(0, 0, 2)x(1, 1, 0, 12) - AIC:479.03673381540057\n",
      "68: ARIMA(0, 0, 2)x(1, 1, 1, 12) - AIC:421.3995743940923\n",
      "69: ARIMA(0, 0, 2)x(1, 1, 2, 12) - AIC:186.10071319176035\n",
      "70: ARIMA(0, 0, 2)x(1, 2, 0, 12) - AIC:248.98250800750725\n",
      "71: ARIMA(0, 0, 2)x(1, 2, 1, 12) - AIC:191.18290231186091\n",
      "72: ARIMA(0, 0, 2)x(1, 2, 2, 12) - AIC:12.0\n",
      "73: ARIMA(0, 0, 2)x(2, 0, 0, 12) - AIC:526.2242246724213\n",
      "74: ARIMA(0, 0, 2)x(2, 0, 1, 12) - AIC:790.8301974549524\n",
      "75: ARIMA(0, 0, 2)x(2, 0, 2, 12) - AIC:465.7252099957383\n",
      "76: ARIMA(0, 0, 2)x(2, 1, 0, 12) - AIC:245.39117968762022\n",
      "77: ARIMA(0, 0, 2)x(2, 1, 1, 12) - AIC:241.87697443965908\n",
      "78: ARIMA(0, 0, 2)x(2, 1, 2, 12) - AIC:188.09587500939614\n",
      "79: ARIMA(0, 0, 2)x(2, 2, 0, 12) - AIC:10.0\n",
      "80: ARIMA(0, 0, 2)x(2, 2, 1, 12) - AIC:12.0\n",
      "81: ARIMA(0, 0, 2)x(2, 2, 2, 12) - AIC:14.0\n",
      "82: ARIMA(0, 1, 0)x(0, 0, 0, 12) - AIC:984.8655333661368\n",
      "83: ARIMA(0, 1, 0)x(0, 0, 1, 12) - AIC:998.3892229844421\n",
      "84: ARIMA(0, 1, 0)x(0, 0, 2, 12) - AIC:447.9330556235598\n",
      "85: ARIMA(0, 1, 0)x(0, 1, 0, 12) - AIC:695.195489242827\n",
      "86: ARIMA(0, 1, 0)x(0, 1, 1, 12) - AIC:448.3265909608302\n",
      "87: ARIMA(0, 1, 0)x(0, 1, 2, 12) - AIC:205.2524711640327\n",
      "88: ARIMA(0, 1, 0)x(0, 2, 0, 12) - AIC:471.3502184457685\n",
      "89: ARIMA(0, 1, 0)x(0, 2, 1, 12) - AIC:209.58156875691412\n",
      "90: ARIMA(0, 1, 0)x(0, 2, 2, 12) - AIC:6.0\n",
      "91: ARIMA(0, 1, 0)x(1, 0, 0, 12) - AIC:714.9998832466857\n",
      "92: ARIMA(0, 1, 0)x(1, 0, 1, 12) - AIC:1266.3176468732263\n",
      "93: ARIMA(0, 1, 0)x(1, 0, 2, 12) - AIC:460.220029744062\n",
      "94: ARIMA(0, 1, 0)x(1, 1, 0, 12) - AIC:465.6954459651351\n",
      "95: ARIMA(0, 1, 0)x(1, 1, 1, 12) - AIC:445.68569495064173\n",
      "96: ARIMA(0, 1, 0)x(1, 1, 2, 12) - AIC:207.22726546719193\n",
      "97: ARIMA(0, 1, 0)x(1, 2, 0, 12) - AIC:229.06091464992744\n",
      "98: ARIMA(0, 1, 0)x(1, 2, 1, 12) - AIC:211.45525080569428\n",
      "99: ARIMA(0, 1, 0)x(1, 2, 2, 12) - AIC:8.0\n",
      "100: ARIMA(0, 1, 0)x(2, 0, 0, 12) - AIC:467.43043767213805\n",
      "101: ARIMA(0, 1, 0)x(2, 0, 1, 12) - AIC:1099.2732227972465\n",
      "102: ARIMA(0, 1, 0)x(2, 0, 2, 12) - AIC:461.84699103868303\n",
      "103: ARIMA(0, 1, 0)x(2, 1, 0, 12) - AIC:227.4029845309112\n",
      "104: ARIMA(0, 1, 0)x(2, 1, 1, 12) - AIC:227.08560543905483\n",
      "105: ARIMA(0, 1, 0)x(2, 1, 2, 12) - AIC:209.01075830535717\n",
      "106: ARIMA(0, 1, 0)x(2, 2, 0, 12) - AIC:6.0\n",
      "107: ARIMA(0, 1, 0)x(2, 2, 1, 12) - AIC:8.0\n",
      "108: ARIMA(0, 1, 0)x(2, 2, 2, 12) - AIC:10.0\n",
      "109: ARIMA(0, 1, 1)x(0, 0, 0, 12) - AIC:951.7794028918787\n",
      "110: ARIMA(0, 1, 1)x(0, 0, 1, 12) - AIC:3447.0895662116445\n",
      "111: ARIMA(0, 1, 1)x(0, 0, 2, 12) - AIC:422.14753505214924\n",
      "112: ARIMA(0, 1, 1)x(0, 1, 0, 12) - AIC:661.9233217435319\n",
      "113: ARIMA(0, 1, 1)x(0, 1, 1, 12) - AIC:418.360325317551\n",
      "114: ARIMA(0, 1, 1)x(0, 1, 2, 12) - AIC:183.6949994659547\n",
      "115: ARIMA(0, 1, 1)x(0, 2, 0, 12) - AIC:442.37664265229176\n",
      "116: ARIMA(0, 1, 1)x(0, 2, 1, 12) - AIC:189.66279172612678\n",
      "117: ARIMA(0, 1, 1)x(0, 2, 2, 12) - AIC:8.0\n",
      "118: ARIMA(0, 1, 1)x(1, 0, 0, 12) - AIC:722.8537186657971\n",
      "119: ARIMA(0, 1, 1)x(1, 0, 1, 12) - AIC:3452.901637705744\n",
      "120: ARIMA(0, 1, 1)x(1, 0, 2, 12) - AIC:437.2303169349304\n",
      "121: ARIMA(0, 1, 1)x(1, 1, 0, 12) - AIC:456.7658922160881\n",
      "122: ARIMA(0, 1, 1)x(1, 1, 1, 12) - AIC:418.46587807773676\n",
      "123: ARIMA(0, 1, 1)x(1, 1, 2, 12) - AIC:186.25046239183868\n",
      "124: ARIMA(0, 1, 1)x(1, 2, 0, 12) - AIC:231.40159542163502\n",
      "125: ARIMA(0, 1, 1)x(1, 2, 1, 12) - AIC:191.38162407817137\n",
      "126: ARIMA(0, 1, 1)x(1, 2, 2, 12) - AIC:10.0\n",
      "127: ARIMA(0, 1, 1)x(2, 0, 0, 12) - AIC:476.255200953147\n",
      "128: ARIMA(0, 1, 1)x(2, 0, 1, 12) - AIC:1031.4813595847863\n",
      "129: ARIMA(0, 1, 1)x(2, 0, 2, 12) - AIC:430.07089871301315\n",
      "130: ARIMA(0, 1, 1)x(2, 1, 0, 12) - AIC:223.43619453296924\n",
      "131: ARIMA(0, 1, 1)x(2, 1, 1, 12) - AIC:225.4261960440059\n",
      "132: ARIMA(0, 1, 1)x(2, 1, 2, 12) - AIC:188.15828324003425\n",
      "133: ARIMA(0, 1, 1)x(2, 2, 0, 12) - AIC:8.0\n",
      "134: ARIMA(0, 1, 1)x(2, 2, 1, 12) - AIC:10.0\n",
      "135: ARIMA(0, 1, 1)x(2, 2, 2, 12) - AIC:12.0\n",
      "136: ARIMA(0, 1, 2)x(0, 0, 0, 12) - AIC:932.0128899263409\n",
      "137: ARIMA(0, 1, 2)x(0, 0, 1, 12) - AIC:3604.428070920448\n",
      "138: ARIMA(0, 1, 2)x(0, 0, 2, 12) - AIC:418.507223631267\n",
      "139: ARIMA(0, 1, 2)x(0, 1, 0, 12) - AIC:643.8195990050796\n",
      "140: ARIMA(0, 1, 2)x(0, 1, 1, 12) - AIC:400.7651031719283\n",
      "141: ARIMA(0, 1, 2)x(0, 1, 2, 12) - AIC:166.39753730440228\n",
      "142: ARIMA(0, 1, 2)x(0, 2, 0, 12) - AIC:424.3806505928158\n",
      "143: ARIMA(0, 1, 2)x(0, 2, 1, 12) - AIC:161.0580574650702\n",
      "144: ARIMA(0, 1, 2)x(0, 2, 2, 12) - AIC:10.0\n",
      "145: ARIMA(0, 1, 2)x(1, 0, 0, 12) - AIC:723.5977165943021\n",
      "146: ARIMA(0, 1, 2)x(1, 0, 1, 12) - AIC:2152.8272324116474\n",
      "147: ARIMA(0, 1, 2)x(1, 0, 2, 12) - AIC:400.0192616454428\n",
      "148: ARIMA(0, 1, 2)x(1, 1, 0, 12) - AIC:458.8953145170585\n",
      "149: ARIMA(0, 1, 2)x(1, 1, 1, 12) - AIC:399.67147802841293\n"
     ]
    },
    {
     "name": "stdout",
     "output_type": "stream",
     "text": [
      "150: ARIMA(0, 1, 2)x(1, 1, 2, 12) - AIC:167.87171369718973\n",
      "151: ARIMA(0, 1, 2)x(1, 2, 0, 12) - AIC:233.65178576519102\n",
      "152: ARIMA(0, 1, 2)x(1, 2, 1, 12) - AIC:174.29769489309095\n",
      "153: ARIMA(0, 1, 2)x(1, 2, 2, 12) - AIC:12.0\n",
      "154: ARIMA(0, 1, 2)x(2, 0, 0, 12) - AIC:478.0636205996653\n",
      "155: ARIMA(0, 1, 2)x(2, 0, 1, 12) - AIC:965.1159325422702\n",
      "156: ARIMA(0, 1, 2)x(2, 0, 2, 12) - AIC:420.1601983140963\n",
      "157: ARIMA(0, 1, 2)x(2, 1, 0, 12) - AIC:225.50628222035118\n",
      "158: ARIMA(0, 1, 2)x(2, 1, 1, 12) - AIC:227.49823382268664\n",
      "159: ARIMA(0, 1, 2)x(2, 1, 2, 12) - AIC:168.89429177503422\n",
      "160: ARIMA(0, 1, 2)x(2, 2, 0, 12) - AIC:10.0\n",
      "161: ARIMA(0, 1, 2)x(2, 2, 1, 12) - AIC:12.0\n",
      "162: ARIMA(0, 1, 2)x(2, 2, 2, 12) - AIC:14.0\n",
      "163: ARIMA(0, 2, 0)x(0, 0, 0, 12) - AIC:1009.7887776978564\n",
      "164: ARIMA(0, 2, 0)x(0, 0, 1, 12) - AIC:1263.8979709384373\n",
      "165: ARIMA(0, 2, 0)x(0, 0, 2, 12) - AIC:459.9883787880987\n",
      "166: ARIMA(0, 2, 0)x(0, 1, 0, 12) - AIC:710.2740932624124\n",
      "167: ARIMA(0, 2, 0)x(0, 1, 1, 12) - AIC:449.9877844975888\n",
      "168: ARIMA(0, 2, 0)x(0, 1, 2, 12) - AIC:193.37258302407008\n",
      "169: ARIMA(0, 2, 0)x(0, 2, 0, 12) - AIC:470.6157527062943\n",
      "170: ARIMA(0, 2, 0)x(0, 2, 1, 12) - AIC:196.63407382759038\n",
      "171: ARIMA(0, 2, 0)x(0, 2, 2, 12) - AIC:6.0\n",
      "172: ARIMA(0, 2, 0)x(1, 0, 0, 12) - AIC:730.2781171066187\n",
      "173: ARIMA(0, 2, 0)x(1, 0, 1, 12) - AIC:1275.8416536007946\n",
      "174: ARIMA(0, 2, 0)x(1, 0, 2, 12) - AIC:461.4929182640363\n",
      "175: ARIMA(0, 2, 0)x(1, 1, 0, 12) - AIC:469.27863009010105\n",
      "176: ARIMA(0, 2, 0)x(1, 1, 1, 12) - AIC:447.78069590050984\n",
      "177: ARIMA(0, 2, 0)x(1, 1, 2, 12) - AIC:195.19991150566887\n",
      "178: ARIMA(0, 2, 0)x(1, 2, 0, 12) - AIC:213.03975945718645\n",
      "179: ARIMA(0, 2, 0)x(1, 2, 1, 12) - AIC:199.16632163417827\n",
      "180: ARIMA(0, 2, 0)x(1, 2, 2, 12) - AIC:8.0\n",
      "181: ARIMA(0, 2, 0)x(2, 0, 0, 12) - AIC:470.3226988893442\n",
      "182: ARIMA(0, 2, 0)x(2, 0, 1, 12) - AIC:713.5557743749164\n",
      "183: ARIMA(0, 2, 0)x(2, 0, 2, 12) - AIC:463.2550769344467\n",
      "184: ARIMA(0, 2, 0)x(2, 1, 0, 12) - AIC:214.0533720413042\n",
      "185: ARIMA(0, 2, 0)x(2, 1, 1, 12) - AIC:215.9473626593977\n",
      "186: ARIMA(0, 2, 0)x(2, 1, 2, 12) - AIC:197.13240869130107\n",
      "187: ARIMA(0, 2, 0)x(2, 2, 0, 12) - AIC:6.0\n",
      "188: ARIMA(0, 2, 0)x(2, 2, 1, 12) - AIC:8.0\n",
      "189: ARIMA(0, 2, 0)x(2, 2, 2, 12) - AIC:10.0\n",
      "190: ARIMA(0, 2, 1)x(0, 0, 0, 12) - AIC:948.2388170728607\n",
      "191: ARIMA(0, 2, 1)x(0, 0, 1, 12) - AIC:4328.315688256167\n",
      "192: ARIMA(0, 2, 1)x(0, 0, 2, 12) - AIC:410.83751240517364\n",
      "193: ARIMA(0, 2, 1)x(0, 1, 0, 12) - AIC:659.1443825664528\n",
      "194: ARIMA(0, 2, 1)x(0, 1, 1, 12) - AIC:412.8292228601484\n",
      "195: ARIMA(0, 2, 1)x(0, 1, 2, 12) - AIC:169.56475902106928\n",
      "196: ARIMA(0, 2, 1)x(0, 2, 0, 12) - AIC:433.26625682803666\n",
      "197: ARIMA(0, 2, 1)x(0, 2, 1, 12) - AIC:173.14592719177557\n",
      "198: ARIMA(0, 2, 1)x(0, 2, 2, 12) - AIC:8.0\n",
      "199: ARIMA(0, 2, 1)x(1, 0, 0, 12) - AIC:718.8462195236284\n",
      "200: ARIMA(0, 2, 1)x(1, 0, 1, 12) - AIC:2633.869506889249\n",
      "201: ARIMA(0, 2, 1)x(1, 0, 2, 12) - AIC:427.7312446816422\n",
      "202: ARIMA(0, 2, 1)x(1, 1, 0, 12) - AIC:451.1984969206981\n",
      "203: ARIMA(0, 2, 1)x(1, 1, 1, 12) - AIC:411.1047838864394\n",
      "204: ARIMA(0, 2, 1)x(1, 1, 2, 12) - AIC:169.69766623067483\n",
      "205: ARIMA(0, 2, 1)x(1, 2, 0, 12) - AIC:215.83592790681968\n",
      "206: ARIMA(0, 2, 1)x(1, 2, 1, 12) - AIC:175.71554617409862\n",
      "207: ARIMA(0, 2, 1)x(1, 2, 2, 12) - AIC:10.0\n",
      "208: ARIMA(0, 2, 1)x(2, 0, 0, 12) - AIC:468.1892063119554\n",
      "209: ARIMA(0, 2, 1)x(2, 0, 1, 12) - AIC:908.2050904754593\n",
      "210: ARIMA(0, 2, 1)x(2, 0, 2, 12) - AIC:429.54925659061627\n",
      "211: ARIMA(0, 2, 1)x(2, 1, 0, 12) - AIC:210.26666687284086\n",
      "212: ARIMA(0, 2, 1)x(2, 1, 1, 12) - AIC:210.72116725724013\n",
      "213: ARIMA(0, 2, 1)x(2, 1, 2, 12) - AIC:173.32232863534966\n",
      "214: ARIMA(0, 2, 1)x(2, 2, 0, 12) - AIC:8.0\n",
      "215: ARIMA(0, 2, 1)x(2, 2, 1, 12) - AIC:10.0\n",
      "216: ARIMA(0, 2, 1)x(2, 2, 2, 12) - AIC:12.0\n",
      "217: ARIMA(0, 2, 2)x(0, 0, 0, 12) - AIC:920.9700487206908\n",
      "218: ARIMA(0, 2, 2)x(0, 0, 1, 12) - AIC:4470.040813891333\n",
      "219: ARIMA(0, 2, 2)x(0, 0, 2, 12) - AIC:405.11883735974163\n",
      "220: ARIMA(0, 2, 2)x(0, 1, 0, 12) - AIC:635.9193578801952\n",
      "221: ARIMA(0, 2, 2)x(0, 1, 1, 12) - AIC:390.15935246724024\n",
      "222: ARIMA(0, 2, 2)x(0, 1, 2, 12) - AIC:149.99035035560135\n",
      "223: ARIMA(0, 2, 2)x(0, 2, 0, 12) - AIC:412.6544350371198\n",
      "224: ARIMA(0, 2, 2)x(0, 2, 1, 12) - AIC:155.24301933253676\n",
      "225: ARIMA(0, 2, 2)x(0, 2, 2, 12) - AIC:10.0\n",
      "226: ARIMA(0, 2, 2)x(1, 0, 0, 12) - AIC:716.2764404560959\n",
      "227: ARIMA(0, 2, 2)x(1, 0, 1, 12) - AIC:2479.715377265553\n",
      "228: ARIMA(0, 2, 2)x(1, 0, 2, 12) - AIC:406.0301695461236\n",
      "229: ARIMA(0, 2, 2)x(1, 1, 0, 12) - AIC:448.7459169385706\n",
      "230: ARIMA(0, 2, 2)x(1, 1, 1, 12) - AIC:390.41694418887886\n",
      "231: ARIMA(0, 2, 2)x(1, 1, 2, 12) - AIC:152.0899513251027\n",
      "232: ARIMA(0, 2, 2)x(1, 2, 0, 12) - AIC:218.43870563828477\n",
      "233: ARIMA(0, 2, 2)x(1, 2, 1, 12) - AIC:157.33852911298843\n",
      "234: ARIMA(0, 2, 2)x(1, 2, 2, 12) - AIC:12.0\n",
      "235: ARIMA(0, 2, 2)x(2, 0, 0, 12) - AIC:466.5279859635984\n",
      "236: ARIMA(0, 2, 2)x(2, 0, 1, 12) - AIC:252.9277684078075\n",
      "237: ARIMA(0, 2, 2)x(2, 0, 2, 12) - AIC:407.8626853773283\n",
      "238: ARIMA(0, 2, 2)x(2, 1, 0, 12) - AIC:210.2546211747101\n",
      "239: ARIMA(0, 2, 2)x(2, 1, 1, 12) - AIC:212.1962152108229\n",
      "240: ARIMA(0, 2, 2)x(2, 1, 2, 12) - AIC:153.6744194501724\n",
      "241: ARIMA(0, 2, 2)x(2, 2, 0, 12) - AIC:10.0\n",
      "242: ARIMA(0, 2, 2)x(2, 2, 1, 12) - AIC:12.0\n",
      "243: ARIMA(0, 2, 2)x(2, 2, 2, 12) - AIC:14.0\n",
      "244: ARIMA(1, 0, 0)x(0, 0, 0, 12) - AIC:1004.4816992517651\n",
      "245: ARIMA(1, 0, 0)x(0, 0, 1, 12) - AIC:4034.3325477516114\n",
      "246: ARIMA(1, 0, 0)x(0, 0, 2, 12) - AIC:468.65445629099344\n",
      "247: ARIMA(1, 0, 0)x(0, 1, 0, 12) - AIC:693.3745580382099\n",
      "248: ARIMA(1, 0, 0)x(0, 1, 1, 12) - AIC:458.97970512048835\n",
      "249: ARIMA(1, 0, 0)x(0, 1, 2, 12) - AIC:222.5854582706498\n",
      "250: ARIMA(1, 0, 0)x(0, 2, 0, 12) - AIC:478.186522999759\n",
      "251: ARIMA(1, 0, 0)x(0, 2, 1, 12) - AIC:226.28636302773035\n",
      "252: ARIMA(1, 0, 0)x(0, 2, 2, 12) - AIC:8.0\n",
      "253: ARIMA(1, 0, 0)x(1, 0, 0, 12) - AIC:692.6310769302822\n",
      "254: ARIMA(1, 0, 0)x(1, 0, 1, 12) - AIC:1202.8569469212518\n",
      "255: ARIMA(1, 0, 0)x(1, 0, 2, 12) - AIC:479.4093448459213\n",
      "256: ARIMA(1, 0, 0)x(1, 1, 0, 12) - AIC:457.4573693666143\n",
      "257: ARIMA(1, 0, 0)x(1, 1, 1, 12) - AIC:456.6477378975553\n",
      "258: ARIMA(1, 0, 0)x(1, 1, 2, 12) - AIC:224.55235010500093\n",
      "259: ARIMA(1, 0, 0)x(1, 2, 0, 12) - AIC:223.247762613297\n",
      "260: ARIMA(1, 0, 0)x(1, 2, 1, 12) - AIC:220.13696160250964\n",
      "261: ARIMA(1, 0, 0)x(1, 2, 2, 12) - AIC:10.0\n",
      "262: ARIMA(1, 0, 0)x(2, 0, 0, 12) - AIC:477.50805335600916\n",
      "263: ARIMA(1, 0, 0)x(2, 0, 1, 12) - AIC:672.6945434494016\n",
      "264: ARIMA(1, 0, 0)x(2, 0, 2, 12) - AIC:481.42159507396997\n",
      "265: ARIMA(1, 0, 0)x(2, 1, 0, 12) - AIC:224.07098767245063\n",
      "266: ARIMA(1, 0, 0)x(2, 1, 1, 12) - AIC:224.62613400973893\n",
      "267: ARIMA(1, 0, 0)x(2, 1, 2, 12) - AIC:226.5442872789447\n",
      "268: ARIMA(1, 0, 0)x(2, 2, 0, 12) - AIC:8.0\n",
      "269: ARIMA(1, 0, 0)x(2, 2, 1, 12) - AIC:10.0\n",
      "270: ARIMA(1, 0, 0)x(2, 2, 2, 12) - AIC:12.0\n",
      "271: ARIMA(1, 0, 1)x(0, 0, 0, 12) - AIC:972.0249426915497\n",
      "272: ARIMA(1, 0, 1)x(0, 0, 1, 12) - AIC:3302.48951992025\n",
      "273: ARIMA(1, 0, 1)x(0, 0, 2, 12) - AIC:458.2259795643275\n",
      "274: ARIMA(1, 0, 1)x(0, 1, 0, 12) - AIC:676.2929424815553\n",
      "275: ARIMA(1, 0, 1)x(0, 1, 1, 12) - AIC:437.4390056450237\n",
      "276: ARIMA(1, 0, 1)x(0, 1, 2, 12) - AIC:205.53197389531996\n",
      "277: ARIMA(1, 0, 1)x(0, 2, 0, 12) - AIC:458.8463441630564\n",
      "278: ARIMA(1, 0, 1)x(0, 2, 1, 12) - AIC:208.5410303233939\n",
      "279: ARIMA(1, 0, 1)x(0, 2, 2, 12) - AIC:10.0\n",
      "280: ARIMA(1, 0, 1)x(1, 0, 0, 12) - AIC:691.5147129054219\n",
      "281: ARIMA(1, 0, 1)x(1, 0, 1, 12) - AIC:2604.9732922403236\n",
      "282: ARIMA(1, 0, 1)x(1, 0, 2, 12) - AIC:458.5073736756509\n",
      "283: ARIMA(1, 0, 1)x(1, 1, 0, 12) - AIC:461.2550637747548\n",
      "284: ARIMA(1, 0, 1)x(1, 1, 1, 12) - AIC:437.6387674978023\n",
      "285: ARIMA(1, 0, 1)x(1, 1, 2, 12) - AIC:207.43853118568347\n",
      "286: ARIMA(1, 0, 1)x(1, 2, 0, 12) - AIC:224.7080414665564\n",
      "287: ARIMA(1, 0, 1)x(1, 2, 1, 12) - AIC:210.15070346125273\n",
      "288: ARIMA(1, 0, 1)x(1, 2, 2, 12) - AIC:12.0\n",
      "289: ARIMA(1, 0, 1)x(2, 0, 0, 12) - AIC:475.8546593981318\n",
      "290: ARIMA(1, 0, 1)x(2, 0, 1, 12) - AIC:820.3896727624045\n",
      "291: ARIMA(1, 0, 1)x(2, 0, 2, 12) - AIC:459.5885482932432\n",
      "292: ARIMA(1, 0, 1)x(2, 1, 0, 12) - AIC:225.82860100465646\n",
      "293: ARIMA(1, 0, 1)x(2, 1, 1, 12) - AIC:226.188525190575\n",
      "294: ARIMA(1, 0, 1)x(2, 1, 2, 12) - AIC:209.43074897463813\n",
      "295: ARIMA(1, 0, 1)x(2, 2, 0, 12) - AIC:10.0\n",
      "296: ARIMA(1, 0, 1)x(2, 2, 1, 12) - AIC:12.0\n",
      "297: ARIMA(1, 0, 1)x(2, 2, 2, 12) - AIC:14.0\n",
      "298: ARIMA(1, 0, 2)x(0, 0, 0, 12) - AIC:951.6998999752908\n"
     ]
    },
    {
     "name": "stdout",
     "output_type": "stream",
     "text": [
      "299: ARIMA(1, 0, 2)x(0, 0, 1, 12) - AIC:3271.320492062226\n",
      "300: ARIMA(1, 0, 2)x(0, 0, 2, 12) - AIC:441.0381692758089\n",
      "301: ARIMA(1, 0, 2)x(0, 1, 0, 12) - AIC:659.7500024635001\n",
      "302: ARIMA(1, 0, 2)x(0, 1, 1, 12) - AIC:420.3053872137087\n",
      "303: ARIMA(1, 0, 2)x(0, 1, 2, 12) - AIC:187.549541769685\n",
      "304: ARIMA(1, 0, 2)x(0, 2, 0, 12) - AIC:439.7987586329191\n",
      "305: ARIMA(1, 0, 2)x(0, 2, 1, 12) - AIC:189.6047879637313\n",
      "306: ARIMA(1, 0, 2)x(0, 2, 2, 12) - AIC:12.0\n",
      "307: ARIMA(1, 0, 2)x(1, 0, 0, 12) - AIC:725.0000073647674\n",
      "308: ARIMA(1, 0, 2)x(1, 0, 1, 12) - AIC:2763.3083434605046\n",
      "309: ARIMA(1, 0, 2)x(1, 0, 2, 12) - AIC:441.947938716429\n",
      "310: ARIMA(1, 0, 2)x(1, 1, 0, 12) - AIC:457.8251845505159\n",
      "311: ARIMA(1, 0, 2)x(1, 1, 1, 12) - AIC:422.41275734215117\n",
      "312: ARIMA(1, 0, 2)x(1, 1, 2, 12) - AIC:188.09561672295038\n",
      "313: ARIMA(1, 0, 2)x(1, 2, 0, 12) - AIC:224.9943409205087\n",
      "314: ARIMA(1, 0, 2)x(1, 2, 1, 12) - AIC:189.61070107575142\n",
      "315: ARIMA(1, 0, 2)x(1, 2, 2, 12) - AIC:14.0\n",
      "316: ARIMA(1, 0, 2)x(2, 0, 0, 12) - AIC:480.15595349138925\n",
      "317: ARIMA(1, 0, 2)x(2, 0, 1, 12) - AIC:830.2557802515641\n",
      "318: ARIMA(1, 0, 2)x(2, 0, 2, 12) - AIC:443.45064796971417\n",
      "319: ARIMA(1, 0, 2)x(2, 1, 0, 12) - AIC:227.9108652211401\n",
      "320: ARIMA(1, 0, 2)x(2, 1, 1, 12) - AIC:224.16948070796042\n",
      "321: ARIMA(1, 0, 2)x(2, 1, 2, 12) - AIC:190.15107730700845\n",
      "322: ARIMA(1, 0, 2)x(2, 2, 0, 12) - AIC:12.0\n",
      "323: ARIMA(1, 0, 2)x(2, 2, 1, 12) - AIC:14.0\n",
      "324: ARIMA(1, 0, 2)x(2, 2, 2, 12) - AIC:16.0\n",
      "325: ARIMA(1, 1, 0)x(0, 0, 0, 12) - AIC:978.8821953919099\n",
      "326: ARIMA(1, 1, 0)x(0, 0, 1, 12) - AIC:3641.377394381229\n",
      "327: ARIMA(1, 1, 0)x(0, 0, 2, 12) - AIC:459.0601638552532\n",
      "328: ARIMA(1, 1, 0)x(0, 1, 0, 12) - AIC:688.9681786326087\n",
      "329: ARIMA(1, 1, 0)x(0, 1, 1, 12) - AIC:446.144802199653\n",
      "330: ARIMA(1, 1, 0)x(0, 1, 2, 12) - AIC:206.2829217172059\n",
      "331: ARIMA(1, 1, 0)x(0, 2, 0, 12) - AIC:469.05953610229346\n",
      "332: ARIMA(1, 1, 0)x(0, 2, 1, 12) - AIC:210.62989599964868\n",
      "333: ARIMA(1, 1, 0)x(0, 2, 2, 12) - AIC:8.0\n",
      "334: ARIMA(1, 1, 0)x(1, 0, 0, 12) - AIC:689.4352259807707\n",
      "335: ARIMA(1, 1, 0)x(1, 0, 1, 12) - AIC:3438.5855941124446\n",
      "336: ARIMA(1, 1, 0)x(1, 0, 2, 12) - AIC:444.19363971199914\n",
      "337: ARIMA(1, 1, 0)x(1, 1, 0, 12) - AIC:444.15907759624514\n",
      "338: ARIMA(1, 1, 0)x(1, 1, 1, 12) - AIC:440.9186853823709\n",
      "339: ARIMA(1, 1, 0)x(1, 1, 2, 12) - AIC:208.19785219637464\n",
      "340: ARIMA(1, 1, 0)x(1, 2, 0, 12) - AIC:210.77296646552114\n",
      "341: ARIMA(1, 1, 0)x(1, 2, 1, 12) - AIC:205.08300737386864\n",
      "342: ARIMA(1, 1, 0)x(1, 2, 2, 12) - AIC:10.0\n",
      "343: ARIMA(1, 1, 0)x(2, 0, 0, 12) - AIC:445.24950177251617\n",
      "344: ARIMA(1, 1, 0)x(2, 0, 1, 12) - AIC:1027.3289277204717\n",
      "345: ARIMA(1, 1, 0)x(2, 0, 2, 12) - AIC:461.28303715958293\n",
      "346: ARIMA(1, 1, 0)x(2, 1, 0, 12) - AIC:207.50677608896274\n",
      "347: ARIMA(1, 1, 0)x(2, 1, 1, 12) - AIC:208.19172828746377\n",
      "348: ARIMA(1, 1, 0)x(2, 1, 2, 12) - AIC:210.09168998596115\n",
      "349: ARIMA(1, 1, 0)x(2, 2, 0, 12) - AIC:8.0\n",
      "350: ARIMA(1, 1, 0)x(2, 2, 1, 12) - AIC:10.0\n",
      "351: ARIMA(1, 1, 0)x(2, 2, 2, 12) - AIC:12.0\n",
      "352: ARIMA(1, 1, 1)x(0, 0, 0, 12) - AIC:951.9842368830973\n",
      "353: ARIMA(1, 1, 1)x(0, 0, 1, 12) - AIC:2960.1810941019453\n",
      "354: ARIMA(1, 1, 1)x(0, 0, 2, 12) - AIC:438.97831387426754\n",
      "355: ARIMA(1, 1, 1)x(0, 1, 0, 12) - AIC:663.7583916666501\n",
      "356: ARIMA(1, 1, 1)x(0, 1, 1, 12) - AIC:420.21708694196025\n",
      "357: ARIMA(1, 1, 1)x(0, 1, 2, 12) - AIC:186.40095284231444\n",
      "358: ARIMA(1, 1, 1)x(0, 2, 0, 12) - AIC:444.1637507764487\n",
      "359: ARIMA(1, 1, 1)x(0, 2, 1, 12) - AIC:191.60971897418892\n",
      "360: ARIMA(1, 1, 1)x(0, 2, 2, 12) - AIC:10.0\n",
      "361: ARIMA(1, 1, 1)x(1, 0, 0, 12) - AIC:703.6254532822167\n",
      "362: ARIMA(1, 1, 1)x(1, 0, 1, 12) - AIC:2456.5450316647157\n",
      "363: ARIMA(1, 1, 1)x(1, 0, 2, 12) - AIC:426.58562698408724\n",
      "364: ARIMA(1, 1, 1)x(1, 1, 0, 12) - AIC:439.1723026635038\n",
      "365: ARIMA(1, 1, 1)x(1, 1, 1, 12) - AIC:420.2448619947204\n",
      "366: ARIMA(1, 1, 1)x(1, 1, 2, 12) - AIC:188.11095095772816\n",
      "367: ARIMA(1, 1, 1)x(1, 2, 0, 12) - AIC:212.7411528093166\n",
      "368: ARIMA(1, 1, 1)x(1, 2, 1, 12) - AIC:193.36873752867544\n",
      "369: ARIMA(1, 1, 1)x(1, 2, 2, 12) - AIC:12.0\n",
      "370: ARIMA(1, 1, 1)x(2, 0, 0, 12) - AIC:436.4731768271288\n",
      "371: ARIMA(1, 1, 1)x(2, 0, 1, 12) - AIC:927.8760171398673\n",
      "372: ARIMA(1, 1, 1)x(2, 0, 2, 12) - AIC:425.409013506283\n",
      "373: ARIMA(1, 1, 1)x(2, 1, 0, 12) - AIC:206.41098276046046\n",
      "374: ARIMA(1, 1, 1)x(2, 1, 1, 12) - AIC:208.40455769843942\n",
      "375: ARIMA(1, 1, 1)x(2, 1, 2, 12) - AIC:189.9815239326742\n",
      "376: ARIMA(1, 1, 1)x(2, 2, 0, 12) - AIC:10.0\n",
      "377: ARIMA(1, 1, 1)x(2, 2, 1, 12) - AIC:12.0\n",
      "378: ARIMA(1, 1, 1)x(2, 2, 2, 12) - AIC:14.0\n",
      "379: ARIMA(1, 1, 2)x(0, 0, 0, 12) - AIC:933.0684306248553\n",
      "380: ARIMA(1, 1, 2)x(0, 0, 1, 12) - AIC:2477.1727899035022\n",
      "381: ARIMA(1, 1, 2)x(0, 0, 2, 12) - AIC:405.8973528530025\n",
      "382: ARIMA(1, 1, 2)x(0, 1, 0, 12) - AIC:645.5202013452058\n",
      "383: ARIMA(1, 1, 2)x(0, 1, 1, 12) - AIC:401.5359694577763\n",
      "384: ARIMA(1, 1, 2)x(0, 1, 2, 12) - AIC:167.5460298353733\n",
      "385: ARIMA(1, 1, 2)x(0, 2, 0, 12) - AIC:424.2179172700295\n",
      "386: ARIMA(1, 1, 2)x(0, 2, 1, 12) - AIC:163.67675028688052\n",
      "387: ARIMA(1, 1, 2)x(0, 2, 2, 12) - AIC:12.0\n",
      "388: ARIMA(1, 1, 2)x(1, 0, 0, 12) - AIC:703.5478987391631\n",
      "389: ARIMA(1, 1, 2)x(1, 0, 1, 12) - AIC:2629.245539012256\n",
      "390: ARIMA(1, 1, 2)x(1, 0, 2, 12) - AIC:420.71773428659213\n",
      "391: ARIMA(1, 1, 2)x(1, 1, 0, 12) - AIC:440.206006785609\n",
      "392: ARIMA(1, 1, 2)x(1, 1, 1, 12) - AIC:400.4572211822126\n",
      "393: ARIMA(1, 1, 2)x(1, 1, 2, 12) - AIC:168.91559462392766\n",
      "394: ARIMA(1, 1, 2)x(1, 2, 0, 12) - AIC:213.99366903230745\n",
      "395: ARIMA(1, 1, 2)x(1, 2, 1, 12) - AIC:174.42911593100274\n",
      "396: ARIMA(1, 1, 2)x(1, 2, 2, 12) - AIC:14.0\n",
      "397: ARIMA(1, 1, 2)x(2, 0, 0, 12) - AIC:459.4408972608017\n",
      "398: ARIMA(1, 1, 2)x(2, 0, 1, 12) - AIC:1026.7928076653432\n",
      "399: ARIMA(1, 1, 2)x(2, 0, 2, 12) - AIC:421.97784765171326\n",
      "400: ARIMA(1, 1, 2)x(2, 1, 0, 12) - AIC:208.00489116862\n",
      "401: ARIMA(1, 1, 2)x(2, 1, 1, 12) - AIC:210.00014674419276\n",
      "402: ARIMA(1, 1, 2)x(2, 1, 2, 12) - AIC:170.7829496521514\n",
      "403: ARIMA(1, 1, 2)x(2, 2, 0, 12) - AIC:12.0\n",
      "404: ARIMA(1, 1, 2)x(2, 2, 1, 12) - AIC:14.0\n",
      "405: ARIMA(1, 1, 2)x(2, 2, 2, 12) - AIC:16.0\n",
      "406: ARIMA(1, 2, 0)x(0, 0, 0, 12) - AIC:991.4419666077604\n",
      "407: ARIMA(1, 2, 0)x(0, 0, 1, 12) - AIC:4614.499091028457\n",
      "408: ARIMA(1, 2, 0)x(0, 0, 2, 12) - AIC:454.83747707804685\n",
      "409: ARIMA(1, 2, 0)x(0, 1, 0, 12) - AIC:694.4322945422508\n",
      "410: ARIMA(1, 2, 0)x(0, 1, 1, 12) - AIC:441.8906257199939\n",
      "411: ARIMA(1, 2, 0)x(0, 1, 2, 12) - AIC:193.1775261686183\n",
      "412: ARIMA(1, 2, 0)x(0, 2, 0, 12) - AIC:460.8011648832722\n",
      "413: ARIMA(1, 2, 0)x(0, 2, 1, 12) - AIC:195.51538839022044\n",
      "414: ARIMA(1, 2, 0)x(0, 2, 2, 12) - AIC:8.0\n",
      "415: ARIMA(1, 2, 0)x(1, 0, 0, 12) - AIC:708.5815781811409\n",
      "416: ARIMA(1, 2, 0)x(1, 0, 1, 12) - AIC:3817.175991095201\n",
      "417: ARIMA(1, 2, 0)x(1, 0, 2, 12) - AIC:455.1294104290283\n",
      "418: ARIMA(1, 2, 0)x(1, 1, 0, 12) - AIC:440.56061309841635\n",
      "419: ARIMA(1, 2, 0)x(1, 1, 1, 12) - AIC:440.22264696535126\n",
      "420: ARIMA(1, 2, 0)x(1, 1, 2, 12) - AIC:195.0909251954163\n",
      "421: ARIMA(1, 2, 0)x(1, 2, 0, 12) - AIC:196.88118570916777\n",
      "422: ARIMA(1, 2, 0)x(1, 2, 1, 12) - AIC:198.4722904929838\n",
      "423: ARIMA(1, 2, 0)x(1, 2, 2, 12) - AIC:10.0\n",
      "424: ARIMA(1, 2, 0)x(2, 0, 0, 12) - AIC:453.6685660001358\n",
      "425: ARIMA(1, 2, 0)x(2, 0, 1, 12) - AIC:820.4347450849098\n",
      "426: ARIMA(1, 2, 0)x(2, 0, 2, 12) - AIC:457.00302769285895\n",
      "427: ARIMA(1, 2, 0)x(2, 1, 0, 12) - AIC:194.49531627247694\n",
      "428: ARIMA(1, 2, 0)x(2, 1, 1, 12) - AIC:195.09531769063437\n",
      "429: ARIMA(1, 2, 0)x(2, 1, 2, 12) - AIC:197.0759128843175\n",
      "430: ARIMA(1, 2, 0)x(2, 2, 0, 12) - AIC:8.0\n",
      "431: ARIMA(1, 2, 0)x(2, 2, 1, 12) - AIC:10.0\n",
      "432: ARIMA(1, 2, 0)x(2, 2, 2, 12) - AIC:12.0\n",
      "433: ARIMA(1, 2, 1)x(0, 0, 0, 12) - AIC:944.7514230497683\n",
      "434: ARIMA(1, 2, 1)x(0, 0, 1, 12) - AIC:2677.6614796693875\n",
      "435: ARIMA(1, 2, 1)x(0, 0, 2, 12) - AIC:426.89191233051775\n",
      "436: ARIMA(1, 2, 1)x(0, 1, 0, 12) - AIC:655.1960017241738\n",
      "437: ARIMA(1, 2, 1)x(0, 1, 1, 12) - AIC:411.8744764230048\n",
      "438: ARIMA(1, 2, 1)x(0, 1, 2, 12) - AIC:171.23366052848849\n",
      "439: ARIMA(1, 2, 1)x(0, 2, 0, 12) - AIC:432.1228770908938\n",
      "440: ARIMA(1, 2, 1)x(0, 2, 1, 12) - AIC:174.62401901814113\n",
      "441: ARIMA(1, 2, 1)x(0, 2, 2, 12) - AIC:10.0\n",
      "442: ARIMA(1, 2, 1)x(1, 0, 0, 12) - AIC:696.6848544452336\n",
      "443: ARIMA(1, 2, 1)x(1, 0, 1, 12) - AIC:1761.936097011989\n",
      "444: ARIMA(1, 2, 1)x(1, 0, 2, 12) - AIC:428.19729473566076\n",
      "445: ARIMA(1, 2, 1)x(1, 1, 0, 12) - AIC:430.76118267340536\n",
      "446: ARIMA(1, 2, 1)x(1, 1, 1, 12) - AIC:410.5532877973628\n"
     ]
    },
    {
     "name": "stdout",
     "output_type": "stream",
     "text": [
      "447: ARIMA(1, 2, 1)x(1, 1, 2, 12) - AIC:173.06559827076643\n",
      "448: ARIMA(1, 2, 1)x(1, 2, 0, 12) - AIC:196.62412539769755\n",
      "449: ARIMA(1, 2, 1)x(1, 2, 1, 12) - AIC:176.5572360992103\n",
      "450: ARIMA(1, 2, 1)x(1, 2, 2, 12) - AIC:12.0\n",
      "451: ARIMA(1, 2, 1)x(2, 0, 0, 12) - AIC:447.5748689553245\n",
      "452: ARIMA(1, 2, 1)x(2, 0, 1, 12) - AIC:971.6002147197956\n",
      "453: ARIMA(1, 2, 1)x(2, 0, 2, 12) - AIC:430.0155363947049\n",
      "454: ARIMA(1, 2, 1)x(2, 1, 0, 12) - AIC:191.5690254784416\n",
      "455: ARIMA(1, 2, 1)x(2, 1, 1, 12) - AIC:192.58250935911727\n",
      "456: ARIMA(1, 2, 1)x(2, 1, 2, 12) - AIC:174.84645034040926\n",
      "457: ARIMA(1, 2, 1)x(2, 2, 0, 12) - AIC:10.0\n",
      "458: ARIMA(1, 2, 1)x(2, 2, 1, 12) - AIC:12.0\n",
      "459: ARIMA(1, 2, 1)x(2, 2, 2, 12) - AIC:14.0\n",
      "460: ARIMA(1, 2, 2)x(0, 0, 0, 12) - AIC:920.9035480682414\n",
      "461: ARIMA(1, 2, 2)x(0, 0, 1, 12) - AIC:3335.512479076613\n",
      "462: ARIMA(1, 2, 2)x(0, 0, 2, 12) - AIC:406.64962107979926\n",
      "463: ARIMA(1, 2, 2)x(0, 1, 0, 12) - AIC:636.7749897822644\n",
      "464: ARIMA(1, 2, 2)x(0, 1, 1, 12) - AIC:391.0548207933016\n",
      "465: ARIMA(1, 2, 2)x(0, 1, 2, 12) - AIC:151.47032421747866\n",
      "466: ARIMA(1, 2, 2)x(0, 2, 0, 12) - AIC:413.52232304180393\n",
      "467: ARIMA(1, 2, 2)x(0, 2, 1, 12) - AIC:156.72778587608678\n",
      "468: ARIMA(1, 2, 2)x(0, 2, 2, 12) - AIC:12.0\n",
      "469: ARIMA(1, 2, 2)x(1, 0, 0, 12) - AIC:696.6084835617636\n",
      "470: ARIMA(1, 2, 2)x(1, 0, 1, 12) - AIC:2111.2825760366527\n",
      "471: ARIMA(1, 2, 2)x(1, 0, 2, 12) - AIC:407.3946539274591\n",
      "472: ARIMA(1, 2, 2)x(1, 1, 0, 12) - AIC:429.24928883653814\n",
      "473: ARIMA(1, 2, 2)x(1, 1, 1, 12) - AIC:391.0302709906943\n",
      "474: ARIMA(1, 2, 2)x(1, 1, 2, 12) - AIC:153.60251074171313\n",
      "475: ARIMA(1, 2, 2)x(1, 2, 0, 12) - AIC:199.62504495091963\n",
      "476: ARIMA(1, 2, 2)x(1, 2, 1, 12) - AIC:158.95027856328244\n",
      "477: ARIMA(1, 2, 2)x(1, 2, 2, 12) - AIC:14.0\n",
      "478: ARIMA(1, 2, 2)x(2, 0, 0, 12) - AIC:447.2051505156588\n",
      "479: ARIMA(1, 2, 2)x(2, 0, 1, 12) - AIC:877.3952907017581\n",
      "480: ARIMA(1, 2, 2)x(2, 0, 2, 12) - AIC:409.20132657393606\n",
      "481: ARIMA(1, 2, 2)x(2, 1, 0, 12) - AIC:191.58490848443677\n",
      "482: ARIMA(1, 2, 2)x(2, 1, 1, 12) - AIC:194.15219092449917\n",
      "483: ARIMA(1, 2, 2)x(2, 1, 2, 12) - AIC:155.09455444340907\n",
      "484: ARIMA(1, 2, 2)x(2, 2, 0, 12) - AIC:12.0\n",
      "485: ARIMA(1, 2, 2)x(2, 2, 1, 12) - AIC:14.0\n",
      "486: ARIMA(1, 2, 2)x(2, 2, 2, 12) - AIC:16.0\n",
      "487: ARIMA(2, 0, 0)x(0, 0, 0, 12) - AIC:980.3456284099653\n",
      "488: ARIMA(2, 0, 0)x(0, 0, 1, 12) - AIC:1453.310738496234\n",
      "489: ARIMA(2, 0, 0)x(0, 0, 2, 12) - AIC:469.07608300837126\n",
      "490: ARIMA(2, 0, 0)x(0, 1, 0, 12) - AIC:676.5724413239267\n",
      "491: ARIMA(2, 0, 0)x(0, 1, 1, 12) - AIC:460.93733870366685\n",
      "492: ARIMA(2, 0, 0)x(0, 1, 2, 12) - AIC:224.22018151475336\n",
      "493: ARIMA(2, 0, 0)x(0, 2, 0, 12) - AIC:459.8602754533587\n",
      "494: ARIMA(2, 0, 0)x(0, 2, 1, 12) - AIC:228.15595950829925\n",
      "495: ARIMA(2, 0, 0)x(0, 2, 2, 12) - AIC:10.0\n",
      "496: ARIMA(2, 0, 0)x(1, 0, 0, 12) - AIC:701.1457756080122\n",
      "497: ARIMA(2, 0, 0)x(1, 0, 1, 12) - AIC:3257.654900652779\n",
      "498: ARIMA(2, 0, 0)x(1, 0, 2, 12) - AIC:479.1287134967977\n",
      "499: ARIMA(2, 0, 0)x(1, 1, 0, 12) - AIC:440.36079735567796\n",
      "500: ARIMA(2, 0, 0)x(1, 1, 1, 12) - AIC:439.71950906210395\n",
      "501: ARIMA(2, 0, 0)x(1, 1, 2, 12) - AIC:226.21663460935372\n",
      "502: ARIMA(2, 0, 0)x(1, 2, 0, 12) - AIC:207.94240953130034\n",
      "503: ARIMA(2, 0, 0)x(1, 2, 1, 12) - AIC:209.64079103650698\n",
      "504: ARIMA(2, 0, 0)x(1, 2, 2, 12) - AIC:12.0\n",
      "505: ARIMA(2, 0, 0)x(2, 0, 0, 12) - AIC:457.0062351327295\n",
      "506: ARIMA(2, 0, 0)x(2, 0, 1, 12) - AIC:916.2206003531185\n",
      "507: ARIMA(2, 0, 0)x(2, 0, 2, 12) - AIC:460.9480289406349\n",
      "508: ARIMA(2, 0, 0)x(2, 1, 0, 12) - AIC:206.00543282450357\n",
      "509: ARIMA(2, 0, 0)x(2, 1, 1, 12) - AIC:207.33042216994423\n",
      "510: ARIMA(2, 0, 0)x(2, 1, 2, 12) - AIC:209.2794022126562\n",
      "511: ARIMA(2, 0, 0)x(2, 2, 0, 12) - AIC:10.0\n",
      "512: ARIMA(2, 0, 0)x(2, 2, 1, 12) - AIC:12.0\n",
      "513: ARIMA(2, 0, 0)x(2, 2, 2, 12) - AIC:14.0\n",
      "514: ARIMA(2, 0, 1)x(0, 0, 0, 12) - AIC:969.8975280766404\n",
      "515: ARIMA(2, 0, 1)x(0, 0, 1, 12) - AIC:3565.807282326804\n",
      "516: ARIMA(2, 0, 1)x(0, 0, 2, 12) - AIC:459.8163931953967\n",
      "517: ARIMA(2, 0, 1)x(0, 1, 0, 12) - AIC:678.565808174372\n",
      "518: ARIMA(2, 0, 1)x(0, 1, 1, 12) - AIC:444.85912952618946\n",
      "519: ARIMA(2, 0, 1)x(0, 1, 2, 12) - AIC:207.45095550581962\n",
      "520: ARIMA(2, 0, 1)x(0, 2, 0, 12) - AIC:460.7305221869984\n",
      "521: ARIMA(2, 0, 1)x(0, 2, 1, 12) - AIC:210.9975636892155\n",
      "522: ARIMA(2, 0, 1)x(0, 2, 2, 12) - AIC:12.0\n",
      "523: ARIMA(2, 0, 1)x(1, 0, 0, 12) - AIC:700.6234426499021\n",
      "524: ARIMA(2, 0, 1)x(1, 0, 1, 12) - AIC:3509.7514919173514\n",
      "525: ARIMA(2, 0, 1)x(1, 0, 2, 12) - AIC:460.07812312988705\n",
      "526: ARIMA(2, 0, 1)x(1, 1, 0, 12) - AIC:443.6596787916961\n",
      "527: ARIMA(2, 0, 1)x(1, 1, 1, 12) - AIC:442.9163441530298\n",
      "528: ARIMA(2, 0, 1)x(1, 1, 2, 12) - AIC:209.37755724707768\n",
      "529: ARIMA(2, 0, 1)x(1, 2, 0, 12) - AIC:210.38624794473026\n",
      "530: ARIMA(2, 0, 1)x(1, 2, 1, 12) - AIC:212.08682627537664\n",
      "531: ARIMA(2, 0, 1)x(1, 2, 2, 12) - AIC:14.0\n",
      "532: ARIMA(2, 0, 1)x(2, 0, 0, 12) - AIC:456.36054617530186\n",
      "533: ARIMA(2, 0, 1)x(2, 0, 1, 12) - AIC:796.2529276855713\n",
      "534: ARIMA(2, 0, 1)x(2, 0, 2, 12) - AIC:461.0257895036895\n",
      "535: ARIMA(2, 0, 1)x(2, 1, 0, 12) - AIC:208.6230887826734\n",
      "536: ARIMA(2, 0, 1)x(2, 1, 1, 12) - AIC:209.8205978283884\n",
      "537: ARIMA(2, 0, 1)x(2, 1, 2, 12) - AIC:211.26025602865542\n",
      "538: ARIMA(2, 0, 1)x(2, 2, 0, 12) - AIC:12.0\n",
      "539: ARIMA(2, 0, 1)x(2, 2, 1, 12) - AIC:14.0\n",
      "540: ARIMA(2, 0, 1)x(2, 2, 2, 12) - AIC:16.0\n",
      "541: ARIMA(2, 0, 2)x(0, 0, 0, 12) - AIC:955.1077414751963\n",
      "542: ARIMA(2, 0, 2)x(0, 0, 1, 12) - AIC:2246.007159089689\n",
      "543: ARIMA(2, 0, 2)x(0, 0, 2, 12) - AIC:442.2894890788127\n",
      "544: ARIMA(2, 0, 2)x(0, 1, 0, 12) - AIC:661.2526020071798\n",
      "545: ARIMA(2, 0, 2)x(0, 1, 1, 12) - AIC:422.3671642599768\n",
      "546: ARIMA(2, 0, 2)x(0, 1, 2, 12) - AIC:189.4645557359783\n",
      "547: ARIMA(2, 0, 2)x(0, 2, 0, 12) - AIC:439.89309619005655\n",
      "548: ARIMA(2, 0, 2)x(0, 2, 1, 12) - AIC:191.4586739971144\n",
      "549: ARIMA(2, 0, 2)x(0, 2, 2, 12) - AIC:14.0\n",
      "550: ARIMA(2, 0, 2)x(1, 0, 0, 12) - AIC:705.1721583064732\n",
      "551: ARIMA(2, 0, 2)x(1, 0, 1, 12) - AIC:2236.327149120396\n",
      "552: ARIMA(2, 0, 2)x(1, 0, 2, 12) - AIC:442.6072863218336\n",
      "553: ARIMA(2, 0, 2)x(1, 1, 0, 12) - AIC:440.2563571344894\n",
      "554: ARIMA(2, 0, 2)x(1, 1, 1, 12) - AIC:423.52135375612573\n",
      "555: ARIMA(2, 0, 2)x(1, 1, 2, 12) - AIC:188.12302218834543\n",
      "556: ARIMA(2, 0, 2)x(1, 2, 0, 12) - AIC:210.87795724462657\n",
      "557: ARIMA(2, 0, 2)x(1, 2, 1, 12) - AIC:191.1063751172149\n",
      "558: ARIMA(2, 0, 2)x(1, 2, 2, 12) - AIC:16.0\n",
      "559: ARIMA(2, 0, 2)x(2, 0, 0, 12) - AIC:460.5874963665069\n",
      "560: ARIMA(2, 0, 2)x(2, 0, 1, 12) - AIC:801.3091738916074\n",
      "561: ARIMA(2, 0, 2)x(2, 0, 2, 12) - AIC:444.61443988681054\n",
      "562: ARIMA(2, 0, 2)x(2, 1, 0, 12) - AIC:207.53903754858584\n",
      "563: ARIMA(2, 0, 2)x(2, 1, 1, 12) - AIC:206.01921940452175\n",
      "564: ARIMA(2, 0, 2)x(2, 1, 2, 12) - AIC:189.89858500229906\n",
      "565: ARIMA(2, 0, 2)x(2, 2, 0, 12) - AIC:14.0\n",
      "566: ARIMA(2, 0, 2)x(2, 2, 1, 12) - AIC:16.0\n",
      "567: ARIMA(2, 0, 2)x(2, 2, 2, 12) - AIC:18.0\n",
      "568: ARIMA(2, 1, 0)x(0, 0, 0, 12) - AIC:954.1333574816445\n",
      "569: ARIMA(2, 1, 0)x(0, 0, 1, 12) - AIC:3309.6321261950875\n",
      "570: ARIMA(2, 1, 0)x(0, 0, 2, 12) - AIC:456.7539466366798\n",
      "571: ARIMA(2, 1, 0)x(0, 1, 0, 12) - AIC:665.0593071526465\n",
      "572: ARIMA(2, 1, 0)x(0, 1, 1, 12) - AIC:444.62016766528467\n",
      "573: ARIMA(2, 1, 0)x(0, 1, 2, 12) - AIC:207.5384679082799\n",
      "574: ARIMA(2, 1, 0)x(0, 2, 0, 12) - AIC:448.6349557451506\n",
      "575: ARIMA(2, 1, 0)x(0, 2, 1, 12) - AIC:212.0661937305208\n",
      "576: ARIMA(2, 1, 0)x(0, 2, 2, 12) - AIC:10.0\n",
      "577: ARIMA(2, 1, 0)x(1, 0, 0, 12) - AIC:681.147609765369\n",
      "578: ARIMA(2, 1, 0)x(1, 0, 1, 12) - AIC:3093.6639913654844\n",
      "579: ARIMA(2, 1, 0)x(1, 0, 2, 12) - AIC:440.3479912472879\n",
      "580: ARIMA(2, 1, 0)x(1, 1, 0, 12) - AIC:422.32081991753023\n",
      "581: ARIMA(2, 1, 0)x(1, 1, 1, 12) - AIC:421.569870561214\n",
      "582: ARIMA(2, 1, 0)x(1, 1, 2, 12) - AIC:209.19585985847004\n",
      "583: ARIMA(2, 1, 0)x(1, 2, 0, 12) - AIC:189.9568377360563\n",
      "584: ARIMA(2, 1, 0)x(1, 2, 1, 12) - AIC:182.29744674498048\n",
      "585: ARIMA(2, 1, 0)x(1, 2, 2, 12) - AIC:12.0\n",
      "586: ARIMA(2, 1, 0)x(2, 0, 0, 12) - AIC:423.3557199961559\n",
      "587: ARIMA(2, 1, 0)x(2, 0, 1, 12) - AIC:880.9405382427756\n",
      "588: ARIMA(2, 1, 0)x(2, 0, 2, 12) - AIC:422.40025365302125\n",
      "589: ARIMA(2, 1, 0)x(2, 1, 0, 12) - AIC:187.6607485034098\n",
      "590: ARIMA(2, 1, 0)x(2, 1, 1, 12) - AIC:188.62219559439686\n",
      "591: ARIMA(2, 1, 0)x(2, 1, 2, 12) - AIC:190.48345309239963\n",
      "592: ARIMA(2, 1, 0)x(2, 2, 0, 12) - AIC:10.0\n",
      "593: ARIMA(2, 1, 0)x(2, 2, 1, 12) - AIC:12.0\n",
      "594: ARIMA(2, 1, 0)x(2, 2, 2, 12) - AIC:14.0\n",
      "595: ARIMA(2, 1, 1)x(0, 0, 0, 12) - AIC:956.1357216020767\n",
      "596: ARIMA(2, 1, 1)x(0, 0, 1, 12) - AIC:3076.9519209887417\n"
     ]
    },
    {
     "name": "stdout",
     "output_type": "stream",
     "text": [
      "597: ARIMA(2, 1, 1)x(0, 0, 2, 12) - AIC:438.6995701753287\n",
      "598: ARIMA(2, 1, 1)x(0, 1, 0, 12) - AIC:665.516609183459\n",
      "599: ARIMA(2, 1, 1)x(0, 1, 1, 12) - AIC:421.3560470772467\n",
      "600: ARIMA(2, 1, 1)x(0, 1, 2, 12) - AIC:186.38248283721782\n",
      "601: ARIMA(2, 1, 1)x(0, 2, 0, 12) - AIC:446.1325901916353\n",
      "602: ARIMA(2, 1, 1)x(0, 2, 1, 12) - AIC:181.56708559499617\n",
      "603: ARIMA(2, 1, 1)x(0, 2, 2, 12) - AIC:12.0\n",
      "604: ARIMA(2, 1, 1)x(1, 0, 0, 12) - AIC:683.2643437585692\n",
      "605: ARIMA(2, 1, 1)x(1, 0, 1, 12) - AIC:3046.4002913518566\n",
      "606: ARIMA(2, 1, 1)x(1, 0, 2, 12) - AIC:439.80851998127406\n",
      "607: ARIMA(2, 1, 1)x(1, 1, 0, 12) - AIC:420.132580496145\n",
      "608: ARIMA(2, 1, 1)x(1, 1, 1, 12) - AIC:416.43683953595666\n",
      "609: ARIMA(2, 1, 1)x(1, 1, 2, 12) - AIC:189.6489743398184\n",
      "610: ARIMA(2, 1, 1)x(1, 2, 0, 12) - AIC:188.53804785080735\n",
      "611: ARIMA(2, 1, 1)x(1, 2, 1, 12) - AIC:181.9289479703076\n",
      "612: ARIMA(2, 1, 1)x(1, 2, 2, 12) - AIC:14.0\n",
      "613: ARIMA(2, 1, 1)x(2, 0, 0, 12) - AIC:416.975628267518\n",
      "614: ARIMA(2, 1, 1)x(2, 0, 1, 12) - AIC:887.9344437914755\n",
      "615: ARIMA(2, 1, 1)x(2, 0, 2, 12) - AIC:426.87061519151837\n",
      "616: ARIMA(2, 1, 1)x(2, 1, 0, 12) - AIC:187.82038884274257\n",
      "617: ARIMA(2, 1, 1)x(2, 1, 1, 12) - AIC:189.59739262754178\n",
      "618: ARIMA(2, 1, 1)x(2, 1, 2, 12) - AIC:191.59518477411999\n",
      "619: ARIMA(2, 1, 1)x(2, 2, 0, 12) - AIC:12.0\n",
      "620: ARIMA(2, 1, 1)x(2, 2, 1, 12) - AIC:14.0\n",
      "621: ARIMA(2, 1, 1)x(2, 2, 2, 12) - AIC:16.0\n",
      "622: ARIMA(2, 1, 2)x(0, 0, 0, 12) - AIC:935.8213722626517\n",
      "623: ARIMA(2, 1, 2)x(0, 0, 1, 12) - AIC:1826.34843646516\n",
      "624: ARIMA(2, 1, 2)x(0, 0, 2, 12) - AIC:420.3944641992792\n",
      "625: ARIMA(2, 1, 2)x(0, 1, 0, 12) - AIC:646.810244291177\n",
      "626: ARIMA(2, 1, 2)x(0, 1, 1, 12) - AIC:404.57430766338837\n",
      "627: ARIMA(2, 1, 2)x(0, 1, 2, 12) - AIC:169.32867938927527\n",
      "628: ARIMA(2, 1, 2)x(0, 2, 0, 12) - AIC:426.1308959428097\n",
      "629: ARIMA(2, 1, 2)x(0, 2, 1, 12) - AIC:173.52183015919834\n",
      "630: ARIMA(2, 1, 2)x(0, 2, 2, 12) - AIC:14.0\n",
      "631: ARIMA(2, 1, 2)x(1, 0, 0, 12) - AIC:684.7234631470617\n",
      "632: ARIMA(2, 1, 2)x(1, 0, 1, 12) - AIC:2214.858284300004\n",
      "633: ARIMA(2, 1, 2)x(1, 0, 2, 12) - AIC:422.09838021463185\n",
      "634: ARIMA(2, 1, 2)x(1, 1, 0, 12) - AIC:422.323082994296\n",
      "635: ARIMA(2, 1, 2)x(1, 1, 1, 12) - AIC:404.2716227832625\n",
      "636: ARIMA(2, 1, 2)x(1, 1, 2, 12) - AIC:170.73631130864348\n",
      "637: ARIMA(2, 1, 2)x(1, 2, 0, 12) - AIC:196.11638646076344\n",
      "638: ARIMA(2, 1, 2)x(1, 2, 1, 12) - AIC:175.35749497686442\n",
      "639: ARIMA(2, 1, 2)x(1, 2, 2, 12) - AIC:16.0\n",
      "640: ARIMA(2, 1, 2)x(2, 0, 0, 12) - AIC:440.3485488337103\n",
      "641: ARIMA(2, 1, 2)x(2, 0, 1, 12) - AIC:852.5293754539716\n",
      "642: ARIMA(2, 1, 2)x(2, 0, 2, 12) - AIC:423.7038040203106\n",
      "643: ARIMA(2, 1, 2)x(2, 1, 0, 12) - AIC:189.16190168504522\n",
      "644: ARIMA(2, 1, 2)x(2, 1, 1, 12) - AIC:190.68530598911227\n",
      "645: ARIMA(2, 1, 2)x(2, 1, 2, 12) - AIC:172.61965329902085\n",
      "646: ARIMA(2, 1, 2)x(2, 2, 0, 12) - AIC:14.0\n",
      "647: ARIMA(2, 1, 2)x(2, 2, 1, 12) - AIC:16.0\n",
      "648: ARIMA(2, 1, 2)x(2, 2, 2, 12) - AIC:18.0\n",
      "649: ARIMA(2, 2, 0)x(0, 0, 0, 12) - AIC:953.3318341774459\n",
      "650: ARIMA(2, 2, 0)x(0, 0, 1, 12) - AIC:3029.747551802139\n",
      "651: ARIMA(2, 2, 0)x(0, 0, 2, 12) - AIC:445.5098853677744\n",
      "652: ARIMA(2, 2, 0)x(0, 1, 0, 12) - AIC:665.7301931877283\n",
      "653: ARIMA(2, 2, 0)x(0, 1, 1, 12) - AIC:437.67260352048226\n",
      "654: ARIMA(2, 2, 0)x(0, 1, 2, 12) - AIC:193.1015191055129\n",
      "655: ARIMA(2, 2, 0)x(0, 2, 0, 12) - AIC:438.026051901039\n",
      "656: ARIMA(2, 2, 0)x(0, 2, 1, 12) - AIC:196.02772938305438\n",
      "657: ARIMA(2, 2, 0)x(0, 2, 2, 12) - AIC:10.0\n",
      "658: ARIMA(2, 2, 0)x(1, 0, 0, 12) - AIC:666.7979174539856\n",
      "659: ARIMA(2, 2, 0)x(1, 0, 1, 12) - AIC:2870.4532145660614\n",
      "660: ARIMA(2, 2, 0)x(1, 0, 2, 12) - AIC:447.4648131486318\n",
      "661: ARIMA(2, 2, 0)x(1, 1, 0, 12) - AIC:416.0679095555321\n",
      "662: ARIMA(2, 2, 0)x(1, 1, 1, 12) - AIC:415.51145370798076\n",
      "663: ARIMA(2, 2, 0)x(1, 1, 2, 12) - AIC:193.9293949086504\n",
      "664: ARIMA(2, 2, 0)x(1, 2, 0, 12) - AIC:175.35408774098244\n",
      "665: ARIMA(2, 2, 0)x(1, 2, 1, 12) - AIC:177.00148031662968\n",
      "666: ARIMA(2, 2, 0)x(1, 2, 2, 12) - AIC:12.0\n",
      "667: ARIMA(2, 2, 0)x(2, 0, 0, 12) - AIC:426.7852458782837\n",
      "668: ARIMA(2, 2, 0)x(2, 0, 1, 12) - AIC:674.2812659869122\n",
      "669: ARIMA(2, 2, 0)x(2, 0, 2, 12) - AIC:427.0324502902562\n",
      "670: ARIMA(2, 2, 0)x(2, 1, 0, 12) - AIC:172.74218913390555\n",
      "671: ARIMA(2, 2, 0)x(2, 1, 1, 12) - AIC:173.25418325595214\n",
      "672: ARIMA(2, 2, 0)x(2, 1, 2, 12) - AIC:174.90236493152662\n",
      "673: ARIMA(2, 2, 0)x(2, 2, 0, 12) - AIC:10.0\n",
      "674: ARIMA(2, 2, 0)x(2, 2, 1, 12) - AIC:12.0\n",
      "675: ARIMA(2, 2, 0)x(2, 2, 2, 12) - AIC:14.0\n",
      "676: ARIMA(2, 2, 1)x(0, 0, 0, 12) - AIC:941.6699668018501\n",
      "677: ARIMA(2, 2, 1)x(0, 0, 1, 12) - AIC:1932.1784346828722\n",
      "678: ARIMA(2, 2, 1)x(0, 0, 2, 12) - AIC:400.29713505867784\n",
      "679: ARIMA(2, 2, 1)x(0, 1, 0, 12) - AIC:655.4112321337154\n",
      "680: ARIMA(2, 2, 1)x(0, 1, 1, 12) - AIC:412.0596965153273\n",
      "681: ARIMA(2, 2, 1)x(0, 1, 2, 12) - AIC:172.09415138514015\n",
      "682: ARIMA(2, 2, 1)x(0, 2, 0, 12) - AIC:433.39661999068613\n",
      "683: ARIMA(2, 2, 1)x(0, 2, 1, 12) - AIC:176.19134182943117\n",
      "684: ARIMA(2, 2, 1)x(0, 2, 2, 12) - AIC:12.0\n",
      "685: ARIMA(2, 2, 1)x(1, 0, 0, 12) - AIC:673.8261618688434\n",
      "686: ARIMA(2, 2, 1)x(1, 0, 1, 12) - AIC:2522.5847263364785\n",
      "687: ARIMA(2, 2, 1)x(1, 0, 2, 12) - AIC:426.51034690991867\n",
      "688: ARIMA(2, 2, 1)x(1, 1, 0, 12) - AIC:410.503982101377\n",
      "689: ARIMA(2, 2, 1)x(1, 1, 1, 12) - AIC:409.898858305553\n",
      "690: ARIMA(2, 2, 1)x(1, 1, 2, 12) - AIC:173.5000759847858\n",
      "691: ARIMA(2, 2, 1)x(1, 2, 0, 12) - AIC:176.79178108378358\n",
      "692: ARIMA(2, 2, 1)x(1, 2, 1, 12) - AIC:177.326821965369\n",
      "693: ARIMA(2, 2, 1)x(1, 2, 2, 12) - AIC:14.0\n",
      "694: ARIMA(2, 2, 1)x(2, 0, 0, 12) - AIC:425.8907376173754\n",
      "695: ARIMA(2, 2, 1)x(2, 0, 1, 12) - AIC:737.817018923538\n",
      "696: ARIMA(2, 2, 1)x(2, 0, 2, 12) - AIC:428.1696372416432\n",
      "697: ARIMA(2, 2, 1)x(2, 1, 0, 12) - AIC:172.88119034561913\n",
      "698: ARIMA(2, 2, 1)x(2, 1, 1, 12) - AIC:173.35794674836086\n",
      "699: ARIMA(2, 2, 1)x(2, 1, 2, 12) - AIC:174.8983033804825\n",
      "700: ARIMA(2, 2, 1)x(2, 2, 0, 12) - AIC:12.0\n",
      "701: ARIMA(2, 2, 1)x(2, 2, 1, 12) - AIC:14.0\n",
      "702: ARIMA(2, 2, 1)x(2, 2, 2, 12) - AIC:16.0\n",
      "703: ARIMA(2, 2, 2)x(0, 0, 0, 12) - AIC:921.9503685707306\n",
      "704: ARIMA(2, 2, 2)x(0, 0, 1, 12) - AIC:1965.5005080720064\n",
      "705: ARIMA(2, 2, 2)x(0, 0, 2, 12) - AIC:381.4915645609746\n",
      "706: ARIMA(2, 2, 2)x(0, 1, 0, 12) - AIC:637.3166040810951\n",
      "707: ARIMA(2, 2, 2)x(0, 1, 1, 12) - AIC:391.61500550848586\n",
      "708: ARIMA(2, 2, 2)x(0, 1, 2, 12) - AIC:152.2461626782923\n",
      "709: ARIMA(2, 2, 2)x(0, 2, 0, 12) - AIC:413.4685541260478\n",
      "710: ARIMA(2, 2, 2)x(0, 2, 1, 12) - AIC:157.66825754108433\n",
      "711: ARIMA(2, 2, 2)x(0, 2, 2, 12) - AIC:14.0\n",
      "712: ARIMA(2, 2, 2)x(1, 0, 0, 12) - AIC:674.0056467496312\n",
      "713: ARIMA(2, 2, 2)x(1, 0, 1, 12) - AIC:2660.407570672808\n",
      "714: ARIMA(2, 2, 2)x(1, 0, 2, 12) - AIC:405.76741657828546\n",
      "715: ARIMA(2, 2, 2)x(1, 1, 0, 12) - AIC:409.5153356184693\n",
      "716: ARIMA(2, 2, 2)x(1, 1, 1, 12) - AIC:390.67286395692645\n",
      "717: ARIMA(2, 2, 2)x(1, 1, 2, 12) - AIC:153.70214799604756\n",
      "718: ARIMA(2, 2, 2)x(1, 2, 0, 12) - AIC:179.82666117590347\n",
      "719: ARIMA(2, 2, 2)x(1, 2, 1, 12) - AIC:160.291147255257\n",
      "720: ARIMA(2, 2, 2)x(1, 2, 2, 12) - AIC:16.0\n",
      "721: ARIMA(2, 2, 2)x(2, 0, 0, 12) - AIC:425.9146315273799\n",
      "722: ARIMA(2, 2, 2)x(2, 0, 1, 12) - AIC:764.4574106208246\n",
      "723: ARIMA(2, 2, 2)x(2, 0, 2, 12) - AIC:407.5586854949058\n",
      "724: ARIMA(2, 2, 2)x(2, 1, 0, 12) - AIC:176.0615725142835\n",
      "725: ARIMA(2, 2, 2)x(2, 1, 1, 12) - AIC:175.65445697472416\n",
      "726: ARIMA(2, 2, 2)x(2, 1, 2, 12) - AIC:155.8080200114039\n",
      "727: ARIMA(2, 2, 2)x(2, 2, 0, 12) - AIC:14.0\n",
      "728: ARIMA(2, 2, 2)x(2, 2, 1, 12) - AIC:16.0\n",
      "729: ARIMA(2, 2, 2)x(2, 2, 2, 12) - AIC:18.0\n"
     ]
    }
   ],
   "source": [
    "import warnings\n",
    "warnings.filterwarnings('ignore')\n",
    "aic_scores = {}\n",
    "i = 1\n",
    "for param in pdq:\n",
    "    for param_seasonal in seasonal_pdq:\n",
    "        try:\n",
    "            mod = sm.tsa.statespace.SARIMAX(df_monthly_sales,\n",
    "                                            order=param,\n",
    "                                            seasonal_order=param_seasonal,\n",
    "                                            enforce_stationarity=False,\n",
    "                                            enforce_invertibility=False)\n",
    "            results = mod.fit()\n",
    "            print('{}: ARIMA{}x{} - AIC:{}'.format(i,param, param_seasonal, results.aic))\n",
    "            aic_scores[i] = results.aic\n",
    "            i += 1\n",
    "        except:\n",
    "            continue"
   ]
  },
  {
   "cell_type": "code",
   "execution_count": 241,
   "id": "e08e094b",
   "metadata": {},
   "outputs": [
    {
     "data": {
      "text/plain": [
       "9"
      ]
     },
     "execution_count": 241,
     "metadata": {},
     "output_type": "execute_result"
    }
   ],
   "source": [
    "min(aic_scores, key=aic_scores.get)"
   ]
  },
  {
   "cell_type": "code",
   "execution_count": 143,
   "id": "f594fa17",
   "metadata": {},
   "outputs": [
    {
     "data": {
      "text/plain": [
       "dict_keys"
      ]
     },
     "execution_count": 143,
     "metadata": {},
     "output_type": "execute_result"
    }
   ],
   "source": [
    "type(aic_scores.keys())"
   ]
  },
  {
   "cell_type": "code",
   "execution_count": 242,
   "id": "ef698a7c",
   "metadata": {},
   "outputs": [],
   "source": [
    " final_model = sm.tsa.statespace.SARIMAX(df_monthly_sales,\n",
    "                                            order=(0,0,0),\n",
    "                                            seasonal_order=(2,2,0,12),\n",
    "                                             enforce_stationarity=False,\n",
    "                                            enforce_invertibility=False)"
   ]
  },
  {
   "cell_type": "code",
   "execution_count": 243,
   "id": "040e3b87",
   "metadata": {},
   "outputs": [],
   "source": [
    "final_results = final_model.fit()"
   ]
  },
  {
   "cell_type": "code",
   "execution_count": 244,
   "id": "f4cf700b",
   "metadata": {},
   "outputs": [
    {
     "data": {
      "text/plain": [
       "6.0"
      ]
     },
     "execution_count": 244,
     "metadata": {},
     "output_type": "execute_result"
    }
   ],
   "source": [
    "final_results.aic"
   ]
  },
  {
   "cell_type": "code",
   "execution_count": 245,
   "id": "038b6b55",
   "metadata": {},
   "outputs": [
    {
     "ename": "ValueError",
     "evalue": "Length of endogenous variable must be larger the the number of lags used in the model and the number of observations burned in the log-likelihood calculation.",
     "output_type": "error",
     "traceback": [
      "\u001b[1;31m---------------------------------------------------------------------------\u001b[0m",
      "\u001b[1;31mValueError\u001b[0m                                Traceback (most recent call last)",
      "\u001b[1;32m~\\AppData\\Local\\Temp/ipykernel_22756/4060604649.py\u001b[0m in \u001b[0;36m<module>\u001b[1;34m\u001b[0m\n\u001b[1;32m----> 1\u001b[1;33m \u001b[0mfinal_results\u001b[0m\u001b[1;33m.\u001b[0m\u001b[0mplot_diagnostics\u001b[0m\u001b[1;33m(\u001b[0m\u001b[0mfigsize\u001b[0m\u001b[1;33m=\u001b[0m\u001b[1;33m(\u001b[0m\u001b[1;36m16\u001b[0m\u001b[1;33m,\u001b[0m \u001b[1;36m8\u001b[0m\u001b[1;33m)\u001b[0m\u001b[1;33m)\u001b[0m\u001b[1;33m\u001b[0m\u001b[1;33m\u001b[0m\u001b[0m\n\u001b[0m\u001b[0;32m      2\u001b[0m \u001b[0mplt\u001b[0m\u001b[1;33m.\u001b[0m\u001b[0mshow\u001b[0m\u001b[1;33m(\u001b[0m\u001b[1;33m)\u001b[0m\u001b[1;33m\u001b[0m\u001b[1;33m\u001b[0m\u001b[0m\n",
      "\u001b[1;32mC:\\ProgramData\\Anaconda3\\lib\\site-packages\\statsmodels\\tsa\\statespace\\mlemodel.py\u001b[0m in \u001b[0;36mplot_diagnostics\u001b[1;34m(self, variable, lags, fig, figsize, truncate_endog_names)\u001b[0m\n\u001b[0;32m   4282\u001b[0m \u001b[1;33m\u001b[0m\u001b[0m\n\u001b[0;32m   4283\u001b[0m         \u001b[1;32mif\u001b[0m \u001b[0mresid\u001b[0m\u001b[1;33m.\u001b[0m\u001b[0mshape\u001b[0m\u001b[1;33m[\u001b[0m\u001b[1;36m0\u001b[0m\u001b[1;33m]\u001b[0m \u001b[1;33m<\u001b[0m \u001b[0mmax\u001b[0m\u001b[1;33m(\u001b[0m\u001b[0md\u001b[0m\u001b[1;33m,\u001b[0m \u001b[0mlags\u001b[0m\u001b[1;33m)\u001b[0m\u001b[1;33m:\u001b[0m\u001b[1;33m\u001b[0m\u001b[1;33m\u001b[0m\u001b[0m\n\u001b[1;32m-> 4284\u001b[1;33m             raise ValueError(\n\u001b[0m\u001b[0;32m   4285\u001b[0m                 \u001b[1;34m\"Length of endogenous variable must be larger the the number \"\u001b[0m\u001b[1;33m\u001b[0m\u001b[1;33m\u001b[0m\u001b[0m\n\u001b[0;32m   4286\u001b[0m                 \u001b[1;34m\"of lags used in the model and the number of observations \"\u001b[0m\u001b[1;33m\u001b[0m\u001b[1;33m\u001b[0m\u001b[0m\n",
      "\u001b[1;31mValueError\u001b[0m: Length of endogenous variable must be larger the the number of lags used in the model and the number of observations burned in the log-likelihood calculation."
     ]
    },
    {
     "data": {
      "text/plain": [
       "<Figure size 1152x576 with 0 Axes>"
      ]
     },
     "metadata": {},
     "output_type": "display_data"
    }
   ],
   "source": [
    "final_results.plot_diagnostics(figsize=(16, 8))\n",
    "plt.show()"
   ]
  },
  {
   "cell_type": "markdown",
   "id": "45578adf",
   "metadata": {},
   "source": [
    "### Validating the forecast"
   ]
  },
  {
   "cell_type": "code",
   "execution_count": 246,
   "id": "0f6180af",
   "metadata": {},
   "outputs": [
    {
     "data": {
      "text/html": [
       "<div>\n",
       "<style scoped>\n",
       "    .dataframe tbody tr th:only-of-type {\n",
       "        vertical-align: middle;\n",
       "    }\n",
       "\n",
       "    .dataframe tbody tr th {\n",
       "        vertical-align: top;\n",
       "    }\n",
       "\n",
       "    .dataframe thead th {\n",
       "        text-align: right;\n",
       "    }\n",
       "</style>\n",
       "<table border=\"1\" class=\"dataframe\">\n",
       "  <thead>\n",
       "    <tr style=\"text-align: right;\">\n",
       "      <th></th>\n",
       "      <th>Sales</th>\n",
       "    </tr>\n",
       "    <tr>\n",
       "      <th>Order_Date</th>\n",
       "      <th></th>\n",
       "    </tr>\n",
       "  </thead>\n",
       "  <tbody>\n",
       "    <tr>\n",
       "      <th>2017-01-01</th>\n",
       "      <td>5964.03</td>\n",
       "    </tr>\n",
       "    <tr>\n",
       "      <th>2017-02-01</th>\n",
       "      <td>6866.34</td>\n",
       "    </tr>\n",
       "    <tr>\n",
       "      <th>2017-03-01</th>\n",
       "      <td>10893.44</td>\n",
       "    </tr>\n",
       "    <tr>\n",
       "      <th>2017-04-01</th>\n",
       "      <td>9065.96</td>\n",
       "    </tr>\n",
       "    <tr>\n",
       "      <th>2017-05-01</th>\n",
       "      <td>16957.56</td>\n",
       "    </tr>\n",
       "    <tr>\n",
       "      <th>2017-06-01</th>\n",
       "      <td>19008.59</td>\n",
       "    </tr>\n",
       "    <tr>\n",
       "      <th>2017-07-01</th>\n",
       "      <td>11813.02</td>\n",
       "    </tr>\n",
       "    <tr>\n",
       "      <th>2017-08-01</th>\n",
       "      <td>15441.87</td>\n",
       "    </tr>\n",
       "    <tr>\n",
       "      <th>2017-09-01</th>\n",
       "      <td>29028.21</td>\n",
       "    </tr>\n",
       "    <tr>\n",
       "      <th>2017-10-01</th>\n",
       "      <td>21884.07</td>\n",
       "    </tr>\n",
       "    <tr>\n",
       "      <th>2017-11-01</th>\n",
       "      <td>37056.72</td>\n",
       "    </tr>\n",
       "    <tr>\n",
       "      <th>2017-12-01</th>\n",
       "      <td>31407.47</td>\n",
       "    </tr>\n",
       "  </tbody>\n",
       "</table>\n",
       "</div>"
      ],
      "text/plain": [
       "               Sales\n",
       "Order_Date          \n",
       "2017-01-01   5964.03\n",
       "2017-02-01   6866.34\n",
       "2017-03-01  10893.44\n",
       "2017-04-01   9065.96\n",
       "2017-05-01  16957.56\n",
       "2017-06-01  19008.59\n",
       "2017-07-01  11813.02\n",
       "2017-08-01  15441.87\n",
       "2017-09-01  29028.21\n",
       "2017-10-01  21884.07\n",
       "2017-11-01  37056.72\n",
       "2017-12-01  31407.47"
      ]
     },
     "execution_count": 246,
     "metadata": {},
     "output_type": "execute_result"
    }
   ],
   "source": [
    "df_monthly_sales[\"2017\":]"
   ]
  },
  {
   "cell_type": "markdown",
   "id": "290ca7c2",
   "metadata": {},
   "source": [
    "### Predicting the values"
   ]
  },
  {
   "cell_type": "code",
   "execution_count": 247,
   "id": "4c831c30",
   "metadata": {},
   "outputs": [
    {
     "name": "stdout",
     "output_type": "stream",
     "text": [
      "<class 'statsmodels.tsa.statespace.mlemodel.PredictionResultsWrapper'>\n"
     ]
    }
   ],
   "source": [
    "#set forecasts to start at 2017–01–01 to the end of the data to forecast\n",
    "pred = final_results.get_prediction(start=pd.to_datetime('2017-01-01'))\n",
    "print(type(pred))"
   ]
  },
  {
   "cell_type": "code",
   "execution_count": 248,
   "id": "ff0825d9",
   "metadata": {},
   "outputs": [
    {
     "data": {
      "text/plain": [
       "Order_Date\n",
       "2017-01-01     3505.54\n",
       "2017-02-01     4716.73\n",
       "2017-03-01    13102.40\n",
       "2017-04-01    15948.48\n",
       "2017-05-01    20864.73\n",
       "2017-06-01    18426.96\n",
       "2017-07-01    12462.62\n",
       "2017-08-01    15327.87\n",
       "2017-09-01    28252.74\n",
       "2017-10-01    11718.54\n",
       "2017-11-01    32686.43\n",
       "2017-12-01    50271.60\n",
       "Freq: MS, Name: predicted_mean, dtype: float64"
      ]
     },
     "execution_count": 248,
     "metadata": {},
     "output_type": "execute_result"
    }
   ],
   "source": [
    "## Printing the predicted values\n",
    "pred.predicted_mean"
   ]
  },
  {
   "cell_type": "code",
   "execution_count": 249,
   "id": "05600695",
   "metadata": {},
   "outputs": [
    {
     "name": "stdout",
     "output_type": "stream",
     "text": [
      "             lower Sales   upper Sales\n",
      "Order_Date                            \n",
      "2017-01-01 -11012.950299  18024.030299\n",
      "2017-02-01  -9801.760299  19235.220299\n",
      "2017-03-01  -1416.090299  27620.890299\n",
      "2017-04-01   1429.989701  30466.970299\n",
      "2017-05-01   6346.239701  35383.220299\n",
      "2017-06-01   3908.469701  32945.450299\n",
      "2017-07-01  -2055.870299  26981.110299\n",
      "2017-08-01    809.379701  29846.360299\n",
      "2017-09-01  13734.249701  42771.230299\n",
      "2017-10-01  -2799.950299  26237.030299\n",
      "2017-11-01  18167.939701  47204.920299\n",
      "2017-12-01  35753.109701  64790.090299\n"
     ]
    },
    {
     "data": {
      "image/png": "[encoded data removed]",
      "text/plain": [
       "<Figure size 1008x504 with 1 Axes>"
      ]
     },
     "metadata": {
      "needs_background": "light"
     },
     "output_type": "display_data"
    }
   ],
   "source": [
    "\n",
    "pred_ci = pred.conf_int(alpha=0.05)\n",
    "print(pred_ci)\n",
    "ax = df_monthly_sales['2014':].plot(label='observed')\n",
    "pred.predicted_mean.plot(ax=ax, label='Forecast', alpha=1, figsize=(14, 7))\n",
    "ax.fill_between(pred_ci.index,\n",
    "                pred_ci['lower Sales'],\n",
    "                pred_ci['upper Sales'], color='seagreen', alpha=.2)\n",
    "ax.set_xlabel('Date')\n",
    "ax.set_ylabel('Furniture Sales')\n",
    "plt.legend()\n",
    "plt.show()"
   ]
  },
  {
   "cell_type": "markdown",
   "id": "f6aa7390",
   "metadata": {},
   "source": [
    "### Calculating MSE and RMSE"
   ]
  },
  {
   "cell_type": "code",
   "execution_count": 250,
   "id": "fe9f3b67",
   "metadata": {},
   "outputs": [
    {
     "data": {
      "text/plain": [
       "array([[ 5964.03,  6866.34, 10893.44,  9065.96, 16957.56, 19008.59,\n",
       "        11813.02, 15441.87, 29028.21, 21884.07, 37056.72, 31407.47]])"
      ]
     },
     "execution_count": 250,
     "metadata": {},
     "output_type": "execute_result"
    }
   ],
   "source": [
    "y_actual = df_monthly_sales[\"2017\":].values.reshape(1, -1)\n",
    "y_actual"
   ]
  },
  {
   "cell_type": "code",
   "execution_count": 251,
   "id": "7fd12895",
   "metadata": {},
   "outputs": [
    {
     "data": {
      "text/plain": [
       "array([ 3505.54,  4716.73, 13102.4 , 15948.48, 20864.73, 18426.96,\n",
       "       12462.62, 15327.87, 28252.74, 11718.54, 32686.43, 50271.6 ])"
      ]
     },
     "execution_count": 251,
     "metadata": {},
     "output_type": "execute_result"
    }
   ],
   "source": [
    "y_predicted = pred.predicted_mean.values\n",
    "y_predicted"
   ]
  },
  {
   "cell_type": "code",
   "execution_count": 252,
   "id": "f88dd3e5",
   "metadata": {},
   "outputs": [
    {
     "data": {
      "text/plain": [
       "array([[  2458.49,   2149.61,  -2208.96,  -6882.52,  -3907.17,    581.63,\n",
       "          -649.6 ,    114.  ,    775.47,  10165.53,   4370.29, -18864.13]])"
      ]
     },
     "execution_count": 252,
     "metadata": {},
     "output_type": "execute_result"
    }
   ],
   "source": [
    "y_actual - y_predicted"
   ]
  },
  {
   "cell_type": "code",
   "execution_count": 253,
   "id": "747b1c2e",
   "metadata": {},
   "outputs": [],
   "source": [
    "mse = ((y_actual - y_predicted) ** 2).mean()"
   ]
  },
  {
   "cell_type": "code",
   "execution_count": 254,
   "id": "b61451f2",
   "metadata": {},
   "outputs": [],
   "source": [
    "rmse = np.sqrt(mse)"
   ]
  },
  {
   "cell_type": "code",
   "execution_count": 255,
   "id": "ecc31520",
   "metadata": {},
   "outputs": [
    {
     "name": "stdout",
     "output_type": "stream",
     "text": [
      "MSE : 46487251.5277333, RMSE: 6818.156021075882\n"
     ]
    }
   ],
   "source": [
    "print(\"MSE : {}, RMSE: {}\".format(mse, rmse))"
   ]
  },
  {
   "cell_type": "code",
   "execution_count": 258,
   "id": "d1c7fd93",
   "metadata": {},
   "outputs": [],
   "source": [
    "from sklearn.metrics import mean_squared_error"
   ]
  },
  {
   "cell_type": "code",
   "execution_count": 259,
   "id": "8b84b793",
   "metadata": {},
   "outputs": [
    {
     "ename": "ValueError",
     "evalue": "Found input variables with inconsistent numbers of samples: [1, 12]",
     "output_type": "error",
     "traceback": [
      "\u001b[1;31m---------------------------------------------------------------------------\u001b[0m",
      "\u001b[1;31mValueError\u001b[0m                                Traceback (most recent call last)",
      "\u001b[1;32m~\\AppData\\Local\\Temp/ipykernel_22756/270116037.py\u001b[0m in \u001b[0;36m<module>\u001b[1;34m\u001b[0m\n\u001b[1;32m----> 1\u001b[1;33m \u001b[0mmean_squared_error\u001b[0m\u001b[1;33m(\u001b[0m\u001b[0my_actual\u001b[0m\u001b[1;33m,\u001b[0m \u001b[0my_predicted\u001b[0m\u001b[1;33m)\u001b[0m\u001b[1;33m\u001b[0m\u001b[1;33m\u001b[0m\u001b[0m\n\u001b[0m",
      "\u001b[1;32mC:\\ProgramData\\Anaconda3\\lib\\site-packages\\sklearn\\metrics\\_regression.py\u001b[0m in \u001b[0;36mmean_squared_error\u001b[1;34m(y_true, y_pred, sample_weight, multioutput, squared)\u001b[0m\n\u001b[0;32m    440\u001b[0m     \u001b[1;36m0.825\u001b[0m\u001b[1;33m...\u001b[0m\u001b[1;33m\u001b[0m\u001b[1;33m\u001b[0m\u001b[0m\n\u001b[0;32m    441\u001b[0m     \"\"\"\n\u001b[1;32m--> 442\u001b[1;33m     y_type, y_true, y_pred, multioutput = _check_reg_targets(\n\u001b[0m\u001b[0;32m    443\u001b[0m         \u001b[0my_true\u001b[0m\u001b[1;33m,\u001b[0m \u001b[0my_pred\u001b[0m\u001b[1;33m,\u001b[0m \u001b[0mmultioutput\u001b[0m\u001b[1;33m\u001b[0m\u001b[1;33m\u001b[0m\u001b[0m\n\u001b[0;32m    444\u001b[0m     )\n",
      "\u001b[1;32mC:\\ProgramData\\Anaconda3\\lib\\site-packages\\sklearn\\metrics\\_regression.py\u001b[0m in \u001b[0;36m_check_reg_targets\u001b[1;34m(y_true, y_pred, multioutput, dtype)\u001b[0m\n\u001b[0;32m     98\u001b[0m         \u001b[0mcorrect\u001b[0m \u001b[0mkeyword\u001b[0m\u001b[1;33m.\u001b[0m\u001b[1;33m\u001b[0m\u001b[1;33m\u001b[0m\u001b[0m\n\u001b[0;32m     99\u001b[0m     \"\"\"\n\u001b[1;32m--> 100\u001b[1;33m     \u001b[0mcheck_consistent_length\u001b[0m\u001b[1;33m(\u001b[0m\u001b[0my_true\u001b[0m\u001b[1;33m,\u001b[0m \u001b[0my_pred\u001b[0m\u001b[1;33m)\u001b[0m\u001b[1;33m\u001b[0m\u001b[1;33m\u001b[0m\u001b[0m\n\u001b[0m\u001b[0;32m    101\u001b[0m     \u001b[0my_true\u001b[0m \u001b[1;33m=\u001b[0m \u001b[0mcheck_array\u001b[0m\u001b[1;33m(\u001b[0m\u001b[0my_true\u001b[0m\u001b[1;33m,\u001b[0m \u001b[0mensure_2d\u001b[0m\u001b[1;33m=\u001b[0m\u001b[1;32mFalse\u001b[0m\u001b[1;33m,\u001b[0m \u001b[0mdtype\u001b[0m\u001b[1;33m=\u001b[0m\u001b[0mdtype\u001b[0m\u001b[1;33m)\u001b[0m\u001b[1;33m\u001b[0m\u001b[1;33m\u001b[0m\u001b[0m\n\u001b[0;32m    102\u001b[0m     \u001b[0my_pred\u001b[0m \u001b[1;33m=\u001b[0m \u001b[0mcheck_array\u001b[0m\u001b[1;33m(\u001b[0m\u001b[0my_pred\u001b[0m\u001b[1;33m,\u001b[0m \u001b[0mensure_2d\u001b[0m\u001b[1;33m=\u001b[0m\u001b[1;32mFalse\u001b[0m\u001b[1;33m,\u001b[0m \u001b[0mdtype\u001b[0m\u001b[1;33m=\u001b[0m\u001b[0mdtype\u001b[0m\u001b[1;33m)\u001b[0m\u001b[1;33m\u001b[0m\u001b[1;33m\u001b[0m\u001b[0m\n",
      "\u001b[1;32mC:\\ProgramData\\Anaconda3\\lib\\site-packages\\sklearn\\utils\\validation.py\u001b[0m in \u001b[0;36mcheck_consistent_length\u001b[1;34m(*arrays)\u001b[0m\n\u001b[0;32m    385\u001b[0m     \u001b[0muniques\u001b[0m \u001b[1;33m=\u001b[0m \u001b[0mnp\u001b[0m\u001b[1;33m.\u001b[0m\u001b[0munique\u001b[0m\u001b[1;33m(\u001b[0m\u001b[0mlengths\u001b[0m\u001b[1;33m)\u001b[0m\u001b[1;33m\u001b[0m\u001b[1;33m\u001b[0m\u001b[0m\n\u001b[0;32m    386\u001b[0m     \u001b[1;32mif\u001b[0m \u001b[0mlen\u001b[0m\u001b[1;33m(\u001b[0m\u001b[0muniques\u001b[0m\u001b[1;33m)\u001b[0m \u001b[1;33m>\u001b[0m \u001b[1;36m1\u001b[0m\u001b[1;33m:\u001b[0m\u001b[1;33m\u001b[0m\u001b[1;33m\u001b[0m\u001b[0m\n\u001b[1;32m--> 387\u001b[1;33m         raise ValueError(\n\u001b[0m\u001b[0;32m    388\u001b[0m             \u001b[1;34m\"Found input variables with inconsistent numbers of samples: %r\"\u001b[0m\u001b[1;33m\u001b[0m\u001b[1;33m\u001b[0m\u001b[0m\n\u001b[0;32m    389\u001b[0m             \u001b[1;33m%\u001b[0m \u001b[1;33m[\u001b[0m\u001b[0mint\u001b[0m\u001b[1;33m(\u001b[0m\u001b[0ml\u001b[0m\u001b[1;33m)\u001b[0m \u001b[1;32mfor\u001b[0m \u001b[0ml\u001b[0m \u001b[1;32min\u001b[0m \u001b[0mlengths\u001b[0m\u001b[1;33m]\u001b[0m\u001b[1;33m\u001b[0m\u001b[1;33m\u001b[0m\u001b[0m\n",
      "\u001b[1;31mValueError\u001b[0m: Found input variables with inconsistent numbers of samples: [1, 12]"
     ]
    }
   ],
   "source": [
    "mean_squared_error(y_actual, y_predicted)"
   ]
  },
  {
   "cell_type": "code",
   "execution_count": 260,
   "id": "23af4af9",
   "metadata": {},
   "outputs": [
    {
     "ename": "ValueError",
     "evalue": "Found input variables with inconsistent numbers of samples: [1, 12]",
     "output_type": "error",
     "traceback": [
      "\u001b[1;31m---------------------------------------------------------------------------\u001b[0m",
      "\u001b[1;31mValueError\u001b[0m                                Traceback (most recent call last)",
      "\u001b[1;32m~\\AppData\\Local\\Temp/ipykernel_22756/1588608940.py\u001b[0m in \u001b[0;36m<module>\u001b[1;34m\u001b[0m\n\u001b[1;32m----> 1\u001b[1;33m \u001b[0mnp\u001b[0m\u001b[1;33m.\u001b[0m\u001b[0msqrt\u001b[0m\u001b[1;33m(\u001b[0m\u001b[0mmean_squared_error\u001b[0m\u001b[1;33m(\u001b[0m\u001b[0my_actual\u001b[0m\u001b[1;33m,\u001b[0m \u001b[0my_predicted\u001b[0m\u001b[1;33m)\u001b[0m\u001b[1;33m)\u001b[0m\u001b[1;33m\u001b[0m\u001b[1;33m\u001b[0m\u001b[0m\n\u001b[0m",
      "\u001b[1;32mC:\\ProgramData\\Anaconda3\\lib\\site-packages\\sklearn\\metrics\\_regression.py\u001b[0m in \u001b[0;36mmean_squared_error\u001b[1;34m(y_true, y_pred, sample_weight, multioutput, squared)\u001b[0m\n\u001b[0;32m    440\u001b[0m     \u001b[1;36m0.825\u001b[0m\u001b[1;33m...\u001b[0m\u001b[1;33m\u001b[0m\u001b[1;33m\u001b[0m\u001b[0m\n\u001b[0;32m    441\u001b[0m     \"\"\"\n\u001b[1;32m--> 442\u001b[1;33m     y_type, y_true, y_pred, multioutput = _check_reg_targets(\n\u001b[0m\u001b[0;32m    443\u001b[0m         \u001b[0my_true\u001b[0m\u001b[1;33m,\u001b[0m \u001b[0my_pred\u001b[0m\u001b[1;33m,\u001b[0m \u001b[0mmultioutput\u001b[0m\u001b[1;33m\u001b[0m\u001b[1;33m\u001b[0m\u001b[0m\n\u001b[0;32m    444\u001b[0m     )\n",
      "\u001b[1;32mC:\\ProgramData\\Anaconda3\\lib\\site-packages\\sklearn\\metrics\\_regression.py\u001b[0m in \u001b[0;36m_check_reg_targets\u001b[1;34m(y_true, y_pred, multioutput, dtype)\u001b[0m\n\u001b[0;32m     98\u001b[0m         \u001b[0mcorrect\u001b[0m \u001b[0mkeyword\u001b[0m\u001b[1;33m.\u001b[0m\u001b[1;33m\u001b[0m\u001b[1;33m\u001b[0m\u001b[0m\n\u001b[0;32m     99\u001b[0m     \"\"\"\n\u001b[1;32m--> 100\u001b[1;33m     \u001b[0mcheck_consistent_length\u001b[0m\u001b[1;33m(\u001b[0m\u001b[0my_true\u001b[0m\u001b[1;33m,\u001b[0m \u001b[0my_pred\u001b[0m\u001b[1;33m)\u001b[0m\u001b[1;33m\u001b[0m\u001b[1;33m\u001b[0m\u001b[0m\n\u001b[0m\u001b[0;32m    101\u001b[0m     \u001b[0my_true\u001b[0m \u001b[1;33m=\u001b[0m \u001b[0mcheck_array\u001b[0m\u001b[1;33m(\u001b[0m\u001b[0my_true\u001b[0m\u001b[1;33m,\u001b[0m \u001b[0mensure_2d\u001b[0m\u001b[1;33m=\u001b[0m\u001b[1;32mFalse\u001b[0m\u001b[1;33m,\u001b[0m \u001b[0mdtype\u001b[0m\u001b[1;33m=\u001b[0m\u001b[0mdtype\u001b[0m\u001b[1;33m)\u001b[0m\u001b[1;33m\u001b[0m\u001b[1;33m\u001b[0m\u001b[0m\n\u001b[0;32m    102\u001b[0m     \u001b[0my_pred\u001b[0m \u001b[1;33m=\u001b[0m \u001b[0mcheck_array\u001b[0m\u001b[1;33m(\u001b[0m\u001b[0my_pred\u001b[0m\u001b[1;33m,\u001b[0m \u001b[0mensure_2d\u001b[0m\u001b[1;33m=\u001b[0m\u001b[1;32mFalse\u001b[0m\u001b[1;33m,\u001b[0m \u001b[0mdtype\u001b[0m\u001b[1;33m=\u001b[0m\u001b[0mdtype\u001b[0m\u001b[1;33m)\u001b[0m\u001b[1;33m\u001b[0m\u001b[1;33m\u001b[0m\u001b[0m\n",
      "\u001b[1;32mC:\\ProgramData\\Anaconda3\\lib\\site-packages\\sklearn\\utils\\validation.py\u001b[0m in \u001b[0;36mcheck_consistent_length\u001b[1;34m(*arrays)\u001b[0m\n\u001b[0;32m    385\u001b[0m     \u001b[0muniques\u001b[0m \u001b[1;33m=\u001b[0m \u001b[0mnp\u001b[0m\u001b[1;33m.\u001b[0m\u001b[0munique\u001b[0m\u001b[1;33m(\u001b[0m\u001b[0mlengths\u001b[0m\u001b[1;33m)\u001b[0m\u001b[1;33m\u001b[0m\u001b[1;33m\u001b[0m\u001b[0m\n\u001b[0;32m    386\u001b[0m     \u001b[1;32mif\u001b[0m \u001b[0mlen\u001b[0m\u001b[1;33m(\u001b[0m\u001b[0muniques\u001b[0m\u001b[1;33m)\u001b[0m \u001b[1;33m>\u001b[0m \u001b[1;36m1\u001b[0m\u001b[1;33m:\u001b[0m\u001b[1;33m\u001b[0m\u001b[1;33m\u001b[0m\u001b[0m\n\u001b[1;32m--> 387\u001b[1;33m         raise ValueError(\n\u001b[0m\u001b[0;32m    388\u001b[0m             \u001b[1;34m\"Found input variables with inconsistent numbers of samples: %r\"\u001b[0m\u001b[1;33m\u001b[0m\u001b[1;33m\u001b[0m\u001b[0m\n\u001b[0;32m    389\u001b[0m             \u001b[1;33m%\u001b[0m \u001b[1;33m[\u001b[0m\u001b[0mint\u001b[0m\u001b[1;33m(\u001b[0m\u001b[0ml\u001b[0m\u001b[1;33m)\u001b[0m \u001b[1;32mfor\u001b[0m \u001b[0ml\u001b[0m \u001b[1;32min\u001b[0m \u001b[0mlengths\u001b[0m\u001b[1;33m]\u001b[0m\u001b[1;33m\u001b[0m\u001b[1;33m\u001b[0m\u001b[0m\n",
      "\u001b[1;31mValueError\u001b[0m: Found input variables with inconsistent numbers of samples: [1, 12]"
     ]
    }
   ],
   "source": [
    "np.sqrt(mean_squared_error(y_actual, y_predicted))"
   ]
  },
  {
   "cell_type": "code",
   "execution_count": 261,
   "id": "c7c9233e",
   "metadata": {},
   "outputs": [
    {
     "data": {
      "text/plain": [
       "array([ 2458.49,  2149.61,  2208.96,  6882.52,  3907.17,   581.63,\n",
       "         649.6 ,   114.  ,   775.47, 10165.53,  4370.29, 18864.13])"
      ]
     },
     "execution_count": 261,
     "metadata": {},
     "output_type": "execute_result"
    }
   ],
   "source": [
    "from statsmodels.tools.eval_measures import rmse\n",
    "rmse(y_actual, y_predicted)"
   ]
  },
  {
   "cell_type": "markdown",
   "id": "d9a9a53c",
   "metadata": {},
   "source": [
    "### Predicting for future time frame"
   ]
  },
  {
   "cell_type": "code",
   "execution_count": 262,
   "id": "f873f839",
   "metadata": {},
   "outputs": [
    {
     "data": {
      "text/plain": [
       "2018-01-01     4305.32\n",
       "2018-02-01     9807.13\n",
       "2018-03-01     8985.79\n",
       "2018-04-01     4919.83\n",
       "2018-05-01    18795.28\n",
       "2018-06-01    24946.61\n",
       "2018-07-01    10557.52\n",
       "2018-08-01    18400.51\n",
       "2018-09-01    30793.54\n",
       "2018-10-01    31895.56\n",
       "2018-11-01    42329.81\n",
       "2018-12-01    26136.23\n",
       "Freq: MS, Name: predicted_mean, dtype: float64"
      ]
     },
     "execution_count": 262,
     "metadata": {},
     "output_type": "execute_result"
    }
   ],
   "source": [
    "future_pred = final_results.get_prediction(start = pd.to_datetime('2018-01-01'), end= pd.to_datetime('2018-12-01'))\n",
    "future_pred.predicted_mean"
   ]
  },
  {
   "cell_type": "code",
   "execution_count": 263,
   "id": "6ec2b8f9",
   "metadata": {},
   "outputs": [
    {
     "data": {
      "text/html": [
       "<div>\n",
       "<style scoped>\n",
       "    .dataframe tbody tr th:only-of-type {\n",
       "        vertical-align: middle;\n",
       "    }\n",
       "\n",
       "    .dataframe tbody tr th {\n",
       "        vertical-align: top;\n",
       "    }\n",
       "\n",
       "    .dataframe thead th {\n",
       "        text-align: right;\n",
       "    }\n",
       "</style>\n",
       "<table border=\"1\" class=\"dataframe\">\n",
       "  <thead>\n",
       "    <tr style=\"text-align: right;\">\n",
       "      <th></th>\n",
       "      <th>lower Sales</th>\n",
       "      <th>upper Sales</th>\n",
       "    </tr>\n",
       "  </thead>\n",
       "  <tbody>\n",
       "    <tr>\n",
       "      <th>2018-01-01</th>\n",
       "      <td>-10213.170299</td>\n",
       "      <td>18823.810299</td>\n",
       "    </tr>\n",
       "    <tr>\n",
       "      <th>2018-02-01</th>\n",
       "      <td>-4711.360299</td>\n",
       "      <td>24325.620299</td>\n",
       "    </tr>\n",
       "    <tr>\n",
       "      <th>2018-03-01</th>\n",
       "      <td>-5532.700299</td>\n",
       "      <td>23504.280299</td>\n",
       "    </tr>\n",
       "    <tr>\n",
       "      <th>2018-04-01</th>\n",
       "      <td>-9598.660299</td>\n",
       "      <td>19438.320299</td>\n",
       "    </tr>\n",
       "    <tr>\n",
       "      <th>2018-05-01</th>\n",
       "      <td>4276.789701</td>\n",
       "      <td>33313.770299</td>\n",
       "    </tr>\n",
       "    <tr>\n",
       "      <th>2018-06-01</th>\n",
       "      <td>10428.119701</td>\n",
       "      <td>39465.100299</td>\n",
       "    </tr>\n",
       "    <tr>\n",
       "      <th>2018-07-01</th>\n",
       "      <td>-3960.970299</td>\n",
       "      <td>25076.010299</td>\n",
       "    </tr>\n",
       "    <tr>\n",
       "      <th>2018-08-01</th>\n",
       "      <td>3882.019701</td>\n",
       "      <td>32919.000299</td>\n",
       "    </tr>\n",
       "    <tr>\n",
       "      <th>2018-09-01</th>\n",
       "      <td>16275.049701</td>\n",
       "      <td>45312.030299</td>\n",
       "    </tr>\n",
       "    <tr>\n",
       "      <th>2018-10-01</th>\n",
       "      <td>17377.069701</td>\n",
       "      <td>46414.050299</td>\n",
       "    </tr>\n",
       "    <tr>\n",
       "      <th>2018-11-01</th>\n",
       "      <td>27811.319701</td>\n",
       "      <td>56848.300299</td>\n",
       "    </tr>\n",
       "    <tr>\n",
       "      <th>2018-12-01</th>\n",
       "      <td>11617.739701</td>\n",
       "      <td>40654.720299</td>\n",
       "    </tr>\n",
       "  </tbody>\n",
       "</table>\n",
       "</div>"
      ],
      "text/plain": [
       "             lower Sales   upper Sales\n",
       "2018-01-01 -10213.170299  18823.810299\n",
       "2018-02-01  -4711.360299  24325.620299\n",
       "2018-03-01  -5532.700299  23504.280299\n",
       "2018-04-01  -9598.660299  19438.320299\n",
       "2018-05-01   4276.789701  33313.770299\n",
       "2018-06-01  10428.119701  39465.100299\n",
       "2018-07-01  -3960.970299  25076.010299\n",
       "2018-08-01   3882.019701  32919.000299\n",
       "2018-09-01  16275.049701  45312.030299\n",
       "2018-10-01  17377.069701  46414.050299\n",
       "2018-11-01  27811.319701  56848.300299\n",
       "2018-12-01  11617.739701  40654.720299"
      ]
     },
     "execution_count": 263,
     "metadata": {},
     "output_type": "execute_result"
    }
   ],
   "source": [
    "future_pred.conf_int()  ## 95% confidence interval for future predictions"
   ]
  },
  {
   "cell_type": "code",
   "execution_count": null,
   "id": "73cd5674",
   "metadata": {},
   "outputs": [],
   "source": []
  }
 ],
 "metadata": {
  "kernelspec": {
   "display_name": "Python 3 (ipykernel)",
   "language": "python",
   "name": "python3"
  },
  "language_info": {
   "codemirror_mode": {
    "name": "ipython",
    "version": 3
   },
   "file_extension": ".py",
   "mimetype": "text/x-python",
   "name": "python",
   "nbconvert_exporter": "python",
   "pygments_lexer": "ipython3",
   "version": "3.9.7"
  }
 },
 "nbformat": 4,
 "nbformat_minor": 5
}
